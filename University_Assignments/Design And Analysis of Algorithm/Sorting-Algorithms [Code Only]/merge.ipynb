{
 "cells": [
  {
   "cell_type": "code",
   "execution_count": 31,
   "metadata": {},
   "outputs": [],
   "source": [
    "import time"
   ]
  },
  {
   "cell_type": "code",
   "execution_count": 32,
   "metadata": {},
   "outputs": [],
   "source": [
    "def getFile(filename):\n",
    "    f = open(filename, 'r')    \n",
    "    line = f.readline()\n",
    "    arrays = []\n",
    "    while line:\n",
    "        arrays.append([int(i) for i in line[1:-2].split(',')])  #CONVERT A STRING TO INTEGER\n",
    "        line = f.readline()   #READ ELEMENT LINE BY LINE\n",
    "    f.close()\n",
    "    return arrays"
   ]
  },
  {
   "cell_type": "code",
   "execution_count": 33,
   "metadata": {},
   "outputs": [],
   "source": [
    "def saveFile(filename, arrays):\n",
    "    file1 = open(filename,\"w\") \n",
    "    for arr in arrays:\n",
    "        line = str(arr)+'\\n'\n",
    "        file1.writelines(line) \n",
    "    file1.close() #to change file access modes"
   ]
  },
  {
   "cell_type": "code",
   "execution_count": 34,
   "metadata": {},
   "outputs": [],
   "source": [
    "import random\n",
    "\n",
    "def generate_array(length):\n",
    "    generated_array = []\n",
    "    for i in range(0,length):\n",
    "        generated_array.append(random.randint(0,length))\n",
    "    return generated_array"
   ]
  },
  {
   "cell_type": "code",
   "execution_count": 35,
   "metadata": {},
   "outputs": [
    {
     "name": "stdout",
     "output_type": "stream",
     "text": [
      "enter the size of a array: 300\n"
     ]
    }
   ],
   "source": [
    "#creating a array of size 5,10 15..... 1000\n",
    "length_array = []\n",
    "i=0\n",
    "input_size = int(input(\"enter the size of a array: \"))\n",
    "while i<=input_size:\n",
    "    i+=5\n",
    "    length_array.append(i)\n",
    "#     print(length_array)\n",
    "    \n",
    "\n",
    "random_arrays = []\n",
    "asc_arrays = []\n",
    "des_arrays = []\n",
    "for i in length_array:\n",
    "    random_arrays.append(generate_array(i))   #STORE RANDOM NUMBER\n",
    "    asc_arrays.append(sorted(generate_array(i)))    #STORE NUMBER IN ASCENDING ORDER\n",
    "    des_arrays.append(sorted(generate_array(i), reverse=True))        #STORE NUMBER IN DESCENDING ORDER\n",
    "    \n",
    "saveFile('ascending_file.txt', asc_arrays)\n",
    "saveFile('descending_file.txt', des_arrays)\n",
    "saveFile('rand_file.txt', random_arrays)"
   ]
  },
  {
   "cell_type": "code",
   "execution_count": 36,
   "metadata": {},
   "outputs": [],
   "source": [
    "def merge_sort(genearted_list):\n",
    "    length_generated_list = len(genearted_list)\n",
    "    \n",
    "    if(length_generated_list <= 1):\n",
    "        return genearted_list\n",
    "    \n",
    "    else:\n",
    "        left_child = genearted_list[0:length_generated_list//2]\n",
    "        right_child = genearted_list[length_generated_list//2:length_generated_list]\n",
    "        \n",
    "        merge_sort(left_child)      #divide as long as there is only 1 element in the sub array\n",
    "        merge_sort(right_child)\n",
    "        \n",
    "        return merge(left_child,right_child,genearted_list) "
   ]
  },
  {
   "cell_type": "code",
   "execution_count": 37,
   "metadata": {},
   "outputs": [],
   "source": [
    "def merge(left_child,right_child,genearted_list):\n",
    "    i = j = k = 0\n",
    "    \n",
    "#     merge_list = [0 for _ in range(len(left_child)+len(right_child))]\n",
    "    while i<len(left_child) and j<len(right_child):\n",
    "        \n",
    "        if left_child[i] > right_child[j]:\n",
    "            genearted_list[k] = right_child[j]\n",
    "            j = j+1\n",
    "        \n",
    "        else:\n",
    "            genearted_list[k] = left_child[i]\n",
    "            i = i+1\n",
    "        k = k+1\n",
    "        \n",
    "        \n",
    "        #remaining elements\n",
    "    while i<len(left_child):\n",
    "        genearted_list[k] = left_child[i]\n",
    "        i = i+1\n",
    "        k = k+1\n",
    "        \n",
    "    while j<len(right_child):\n",
    "        genearted_list[k] = right_child[j]\n",
    "        j = j+1\n",
    "        k = k+1\n",
    "        \n",
    "    return genearted_list"
   ]
  },
  {
   "cell_type": "code",
   "execution_count": 38,
   "metadata": {},
   "outputs": [
    {
     "name": "stdout",
     "output_type": "stream",
     "text": [
      "creating a merge_sort file which sorted the descending order number: \n",
      "\n",
      "creating a merge_sort file which sorted the ascending order number: \n",
      "\n",
      "creating a merge_sort file which sorted the random number: \n",
      "\n"
     ]
    }
   ],
   "source": [
    "if __name__ == '__main__':\n",
    "    merge_des_lists = getFile('descending_file.txt')\n",
    "    merge_asc_lists = getFile('ascending_file.txt')\n",
    "    merge_random_lists = getFile('rand_file.txt')\n",
    "    \n",
    "    total_asc_merge_time = []\n",
    "    total_des_merge_time = []\n",
    "    total_ran_merge_time = []\n",
    "    \n",
    "    sorted_des_merge_list = []\n",
    "    sorted_asc_merge_list = []\n",
    "    sorted_ran_merge_list = []\n",
    "     \n",
    "    \n",
    "    for genearted_list in merge_des_lists:\n",
    "        \n",
    "        merge_desc_start_time = time.time()\n",
    "        sorted_des_merge_list.append(merge_sort(genearted_list))\n",
    "        merge_desc_end_time = time.time()\n",
    "        \n",
    "        merge_des_run_time = merge_desc_end_time-merge_desc_start_time\n",
    "        \n",
    "        total_des_merge_time.append(merge_des_run_time)\n",
    "        \n",
    "    for genearted_list in merge_asc_lists:\n",
    "        \n",
    "        merge_asc_start_time = time.time()\n",
    "        sorted_asc_merge_list.append(merge_sort(genearted_list))\n",
    "        merge_asc_end_time = time.time()\n",
    "        \n",
    "        merge_asc_run_time = merge_asc_end_time-merge_asc_start_time\n",
    "        \n",
    "        total_asc_merge_time.append(merge_asc_run_time)\n",
    "        \n",
    "        \n",
    "    for genearted_list in merge_random_lists:\n",
    "        \n",
    "        merge_ran_start_time = time.time()\n",
    "        sorted_ran_merge_list.append(merge_sort(genearted_list))\n",
    "        merge_ran_end_time = time.time()\n",
    "        \n",
    "        merge_ran_run_time = merge_ran_end_time-merge_ran_start_time\n",
    "        \n",
    "        total_ran_merge_time.append(merge_ran_run_time)\n",
    "    \n",
    "    print(\"creating a merge_sort file which sorted the descending order number: \\n\")    \n",
    "    saveFile('merge_descending_file.txt',sorted_des_merge_list)\n",
    "    print(\"creating a merge_sort file which sorted the ascending order number: \\n\") \n",
    "    saveFile('merge_ascending_file.txt',sorted_asc_merge_list)\n",
    "    print(\"creating a merge_sort file which sorted the random number: \\n\") \n",
    "    saveFile('merge_random_file.txt',sorted_ran_merge_list)\n",
    "    "
   ]
  },
  {
   "cell_type": "code",
   "execution_count": 39,
   "metadata": {},
   "outputs": [],
   "source": [
    "%matplotlib inline\n",
    "import matplotlib.pyplot as plt\n",
    "plt.style.use('seaborn-whitegrid')"
   ]
  },
  {
   "cell_type": "code",
   "execution_count": 40,
   "metadata": {},
   "outputs": [
    {
     "data": {
      "image/png": "[encoded data removed]",
      "text/plain": [
       "<Figure size 432x288 with 1 Axes>"
      ]
     },
     "metadata": {},
     "output_type": "display_data"
    },
    {
     "data": {
      "text/plain": [
       "<Figure size 432x288 with 0 Axes>"
      ]
     },
     "metadata": {},
     "output_type": "display_data"
    }
   ],
   "source": [
    "plt.xlabel('Input Size')\n",
    "plt.ylabel('Run time in sec')\n",
    "fig = plt.gcf()\n",
    "plt.plot(length_array,total_asc_merge_time);\n",
    "plt.plot(length_array,total_des_merge_time)\n",
    "plt.plot(length_array,total_ran_merge_time)\n",
    "plt.legend(['ascending order','descending order','random number'], loc='upper left')\n",
    "plt.show()\n",
    "plt.draw()\n",
    "fig.savefig('MERGE.png',dpi = 200)"
   ]
  },
  {
   "cell_type": "code",
   "execution_count": null,
   "metadata": {},
   "outputs": [],
   "source": []
  }
 ],
 "metadata": {
  "kernelspec": {
   "display_name": "Python 3",
   "language": "python",
   "name": "python3"
  },
  "language_info": {
   "codemirror_mode": {
    "name": "ipython",
    "version": 3
   },
   "file_extension": ".py",
   "mimetype": "text/x-python",
   "name": "python",
   "nbconvert_exporter": "python",
   "pygments_lexer": "ipython3",
   "version": "3.7.4"
  }
 },
 "nbformat": 4,
 "nbformat_minor": 2
}
