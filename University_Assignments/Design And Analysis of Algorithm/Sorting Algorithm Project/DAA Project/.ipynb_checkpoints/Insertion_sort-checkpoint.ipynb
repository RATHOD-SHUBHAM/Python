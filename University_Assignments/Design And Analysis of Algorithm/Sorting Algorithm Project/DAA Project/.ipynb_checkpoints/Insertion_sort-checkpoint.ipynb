{
 "cells": [
  {
   "cell_type": "code",
   "execution_count": 1,
   "metadata": {},
   "outputs": [],
   "source": [
    "#Generating  random numbes"
   ]
  },
  {
   "cell_type": "code",
   "execution_count": 2,
   "metadata": {},
   "outputs": [],
   "source": [
    "import random"
   ]
  },
  {
   "cell_type": "code",
   "execution_count": 3,
   "metadata": {},
   "outputs": [],
   "source": [
    "def ran_num_gen(length_of_list):\n",
    "    random_number = []\n",
    "    for i in range(0,length_of_list):\n",
    "        random_number.append(random.randint(0,length_of_list))  #generate number btn 0 and the the number you enter.\n",
    "    return random_number"
   ]
  },
  {
   "cell_type": "code",
   "execution_count": 4,
   "metadata": {},
   "outputs": [],
   "source": [
    "#INSERTION_SORT"
   ]
  },
  {
   "cell_type": "code",
   "execution_count": 5,
   "metadata": {},
   "outputs": [],
   "source": [
    "def insertion_sort(generated_list):\n",
    "    len_generated_list = len(generated_list)\n",
    "#     print(\"the length of the generated list : \",len_generated_list)\n",
    "    \n",
    "    for current_index in range(1,len_generated_list):\n",
    "        current_element = generated_list[current_index]\n",
    "        previous_index = current_index - 1\n",
    "        \n",
    "        while previous_index >= 0 and current_element < generated_list[previous_index]:\n",
    "            generated_list[previous_index+1] = generated_list[previous_index]\n",
    "            generated_list[previous_index] = current_element\n",
    "            previous_index = previous_index - 1\n",
    "        \n",
    "        \n",
    "    return generated_list"
   ]
  },
  {
   "cell_type": "code",
   "execution_count": 6,
   "metadata": {},
   "outputs": [],
   "source": [
    "#MERGER SORT"
   ]
  },
  {
   "cell_type": "code",
   "execution_count": 56,
   "metadata": {},
   "outputs": [],
   "source": [
    "def mergesort(generated_list):\n",
    "    length_generated_list = len(generated_list)\n",
    "    if(length_generated_list > 1):\n",
    "#         middle_element = length_generated_list//2\n",
    "#         left_hand_list = generated_list[0:middle_element]\n",
    "#         right_hand_list = generated_list[middle_element:length_generated_list]\n",
    "        child1 = generated_list[0:length_generated_list//2]\n",
    "        child2 = generated_list[(length_generated_list//2):length_generated_list]\n",
    "        print(\"-------=====\")\n",
    "        print(generated_list)\n",
    "        print(child1)\n",
    "        print(child2)\n",
    "        return merge(mergesort(child1), mergesort(child2))\n",
    "#         return merge(left_hand_list,right_hand_list)\n",
    "    else:\n",
    "        return generated_list"
   ]
  },
  {
   "cell_type": "code",
   "execution_count": 57,
   "metadata": {},
   "outputs": [],
   "source": [
    "def merge(left_array,right_array):\n",
    "    i = j = k = 0\n",
    "    while i < len(left_array) and j < len(right_array):\n",
    "        if(left_array[i] < right_array[j]):\n",
    "            generated_list[k] = left_array[i]\n",
    "            i = i+1\n",
    "        else:\n",
    "            generated_list[k] = right_array[j]\n",
    "            j = j+1\n",
    "        k = k+1\n",
    "    \n",
    "    while i < len(left_array):\n",
    "        generated_list[k] = left_array[i]\n",
    "        i = i+1\n",
    "        k = k+1\n",
    "\n",
    "    while j < len(right_array):\n",
    "        generated_list[k] = right_array[j]\n",
    "        j = j+1\n",
    "        k = k+1\n",
    "    \n",
    "    print(generated_list) \n",
    "    "
   ]
  },
  {
   "cell_type": "code",
   "execution_count": 58,
   "metadata": {},
   "outputs": [],
   "source": [
    "#main"
   ]
  },
  {
   "cell_type": "code",
   "execution_count": 59,
   "metadata": {},
   "outputs": [],
   "source": [
    "import time"
   ]
  },
  {
   "cell_type": "code",
   "execution_count": 60,
   "metadata": {},
   "outputs": [
    {
     "name": "stdout",
     "output_type": "stream",
     "text": [
      "[5, 10, 15, 20, 25, 30, 35, 40, 45, 50, 55, 60, 65, 70, 75, 80, 85, 90, 95, 100, 105, 110, 115, 120, 125, 130, 135, 140, 145, 150, 155, 160, 165, 170, 175, 180, 185, 190, 195, 200, 205, 210, 215, 220, 225, 230, 235, 240, 245, 250, 255, 260, 265, 270, 275, 280, 285, 290, 295, 300, 305, 310, 315, 320, 325, 330, 335, 340, 345, 350, 355, 360, 365, 370, 375, 380, 385, 390, 395, 400, 405, 410, 415, 420, 425, 430, 435, 440, 445, 450, 455, 460, 465, 470, 475, 480, 485, 490, 495, 500, 505, 510, 515, 520, 525, 530, 535, 540, 545, 550, 555, 560, 565, 570, 575, 580, 585, 590, 595, 600, 605, 610, 615, 620, 625, 630, 635, 640, 645, 650, 655, 660, 665, 670, 675, 680, 685, 690, 695, 700, 705, 710, 715, 720, 725, 730, 735, 740, 745, 750, 755, 760, 765, 770, 775, 780, 785, 790, 795, 800, 805, 810, 815, 820, 825, 830, 835, 840, 845, 850, 855, 860, 865, 870, 875, 880, 885, 890, 895, 900, 905, 910, 915, 920, 925, 930, 935, 940, 945, 950, 955, 960, 965, 970, 975, 980, 985, 990, 995, 1000, 1005]\n"
     ]
    }
   ],
   "source": [
    "# create array of 5,10...1000\n",
    "length_of_insertion_list = []\n",
    "i=0\n",
    "while i<=1000:\n",
    "    i = i+5\n",
    "    length_of_insertion_list.append(i)\n",
    "print(length_of_insertion_list)"
   ]
  },
  {
   "cell_type": "code",
   "execution_count": 62,
   "metadata": {},
   "outputs": [
    {
     "name": "stdout",
     "output_type": "stream",
     "text": [
      "-------=====\n",
      "[3, 5, 5, 3, 2]\n",
      "[3, 5]\n",
      "[5, 3, 2]\n",
      "-------=====\n",
      "[3, 5]\n",
      "[3]\n",
      "[5]\n",
      "[3, 5, 5, 3, 2]\n",
      "-------=====\n",
      "[5, 3, 2]\n",
      "[5]\n",
      "[3, 2]\n",
      "-------=====\n",
      "[3, 2]\n",
      "[3]\n",
      "[2]\n",
      "[2, 3, 5, 3, 2]\n"
     ]
    },
    {
     "ename": "TypeError",
     "evalue": "object of type 'NoneType' has no len()",
     "output_type": "error",
     "traceback": [
      "\u001b[0;31m---------------------------------------------------------------------------\u001b[0m",
      "\u001b[0;31mTypeError\u001b[0m                                 Traceback (most recent call last)",
      "\u001b[0;32m<ipython-input-62-5782fcdb1a6e>\u001b[0m in \u001b[0;36m<module>\u001b[0;34m\u001b[0m\n\u001b[1;32m      8\u001b[0m \u001b[0;34m\u001b[0m\u001b[0m\n\u001b[1;32m      9\u001b[0m \u001b[0;34m\u001b[0m\u001b[0m\n\u001b[0;32m---> 10\u001b[0;31m         \u001b[0mmerge_sorted\u001b[0m \u001b[0;34m=\u001b[0m \u001b[0mmergesort\u001b[0m\u001b[0;34m(\u001b[0m\u001b[0mgenerated_list\u001b[0m\u001b[0;34m)\u001b[0m\u001b[0;34m\u001b[0m\u001b[0;34m\u001b[0m\u001b[0m\n\u001b[0m\u001b[1;32m     11\u001b[0m \u001b[0;31m#         print(merge_sorted)\u001b[0m\u001b[0;34m\u001b[0m\u001b[0;34m\u001b[0m\u001b[0;34m\u001b[0m\u001b[0m\n\u001b[1;32m     12\u001b[0m \u001b[0;34m\u001b[0m\u001b[0m\n",
      "\u001b[0;32m<ipython-input-56-efb38350bb45>\u001b[0m in \u001b[0;36mmergesort\u001b[0;34m(generated_list)\u001b[0m\n\u001b[1;32m     11\u001b[0m         \u001b[0mprint\u001b[0m\u001b[0;34m(\u001b[0m\u001b[0mchild1\u001b[0m\u001b[0;34m)\u001b[0m\u001b[0;34m\u001b[0m\u001b[0;34m\u001b[0m\u001b[0m\n\u001b[1;32m     12\u001b[0m         \u001b[0mprint\u001b[0m\u001b[0;34m(\u001b[0m\u001b[0mchild2\u001b[0m\u001b[0;34m)\u001b[0m\u001b[0;34m\u001b[0m\u001b[0;34m\u001b[0m\u001b[0m\n\u001b[0;32m---> 13\u001b[0;31m         \u001b[0;32mreturn\u001b[0m \u001b[0mmerge\u001b[0m\u001b[0;34m(\u001b[0m\u001b[0mmergesort\u001b[0m\u001b[0;34m(\u001b[0m\u001b[0mchild1\u001b[0m\u001b[0;34m)\u001b[0m\u001b[0;34m,\u001b[0m \u001b[0mmergesort\u001b[0m\u001b[0;34m(\u001b[0m\u001b[0mchild2\u001b[0m\u001b[0;34m)\u001b[0m\u001b[0;34m)\u001b[0m\u001b[0;34m\u001b[0m\u001b[0;34m\u001b[0m\u001b[0m\n\u001b[0m\u001b[1;32m     14\u001b[0m \u001b[0;31m#         return merge(left_hand_list,right_hand_list)\u001b[0m\u001b[0;34m\u001b[0m\u001b[0;34m\u001b[0m\u001b[0;34m\u001b[0m\u001b[0m\n\u001b[1;32m     15\u001b[0m     \u001b[0;32melse\u001b[0m\u001b[0;34m:\u001b[0m\u001b[0;34m\u001b[0m\u001b[0;34m\u001b[0m\u001b[0m\n",
      "\u001b[0;32m<ipython-input-56-efb38350bb45>\u001b[0m in \u001b[0;36mmergesort\u001b[0;34m(generated_list)\u001b[0m\n\u001b[1;32m     11\u001b[0m         \u001b[0mprint\u001b[0m\u001b[0;34m(\u001b[0m\u001b[0mchild1\u001b[0m\u001b[0;34m)\u001b[0m\u001b[0;34m\u001b[0m\u001b[0;34m\u001b[0m\u001b[0m\n\u001b[1;32m     12\u001b[0m         \u001b[0mprint\u001b[0m\u001b[0;34m(\u001b[0m\u001b[0mchild2\u001b[0m\u001b[0;34m)\u001b[0m\u001b[0;34m\u001b[0m\u001b[0;34m\u001b[0m\u001b[0m\n\u001b[0;32m---> 13\u001b[0;31m         \u001b[0;32mreturn\u001b[0m \u001b[0mmerge\u001b[0m\u001b[0;34m(\u001b[0m\u001b[0mmergesort\u001b[0m\u001b[0;34m(\u001b[0m\u001b[0mchild1\u001b[0m\u001b[0;34m)\u001b[0m\u001b[0;34m,\u001b[0m \u001b[0mmergesort\u001b[0m\u001b[0;34m(\u001b[0m\u001b[0mchild2\u001b[0m\u001b[0;34m)\u001b[0m\u001b[0;34m)\u001b[0m\u001b[0;34m\u001b[0m\u001b[0;34m\u001b[0m\u001b[0m\n\u001b[0m\u001b[1;32m     14\u001b[0m \u001b[0;31m#         return merge(left_hand_list,right_hand_list)\u001b[0m\u001b[0;34m\u001b[0m\u001b[0;34m\u001b[0m\u001b[0;34m\u001b[0m\u001b[0m\n\u001b[1;32m     15\u001b[0m     \u001b[0;32melse\u001b[0m\u001b[0;34m:\u001b[0m\u001b[0;34m\u001b[0m\u001b[0;34m\u001b[0m\u001b[0m\n",
      "\u001b[0;32m<ipython-input-57-ec5137c1c8fa>\u001b[0m in \u001b[0;36mmerge\u001b[0;34m(left_array, right_array)\u001b[0m\n\u001b[1;32m      1\u001b[0m \u001b[0;32mdef\u001b[0m \u001b[0mmerge\u001b[0m\u001b[0;34m(\u001b[0m\u001b[0mleft_array\u001b[0m\u001b[0;34m,\u001b[0m\u001b[0mright_array\u001b[0m\u001b[0;34m)\u001b[0m\u001b[0;34m:\u001b[0m\u001b[0;34m\u001b[0m\u001b[0;34m\u001b[0m\u001b[0m\n\u001b[1;32m      2\u001b[0m     \u001b[0mi\u001b[0m \u001b[0;34m=\u001b[0m \u001b[0mj\u001b[0m \u001b[0;34m=\u001b[0m \u001b[0mk\u001b[0m \u001b[0;34m=\u001b[0m \u001b[0;36m0\u001b[0m\u001b[0;34m\u001b[0m\u001b[0;34m\u001b[0m\u001b[0m\n\u001b[0;32m----> 3\u001b[0;31m     \u001b[0;32mwhile\u001b[0m \u001b[0mi\u001b[0m \u001b[0;34m<\u001b[0m \u001b[0mlen\u001b[0m\u001b[0;34m(\u001b[0m\u001b[0mleft_array\u001b[0m\u001b[0;34m)\u001b[0m \u001b[0;32mand\u001b[0m \u001b[0mj\u001b[0m \u001b[0;34m<\u001b[0m \u001b[0mlen\u001b[0m\u001b[0;34m(\u001b[0m\u001b[0mright_array\u001b[0m\u001b[0;34m)\u001b[0m\u001b[0;34m:\u001b[0m\u001b[0;34m\u001b[0m\u001b[0;34m\u001b[0m\u001b[0m\n\u001b[0m\u001b[1;32m      4\u001b[0m         \u001b[0;32mif\u001b[0m\u001b[0;34m(\u001b[0m\u001b[0mleft_array\u001b[0m\u001b[0;34m[\u001b[0m\u001b[0mi\u001b[0m\u001b[0;34m]\u001b[0m \u001b[0;34m<\u001b[0m \u001b[0mright_array\u001b[0m\u001b[0;34m[\u001b[0m\u001b[0mj\u001b[0m\u001b[0;34m]\u001b[0m\u001b[0;34m)\u001b[0m\u001b[0;34m:\u001b[0m\u001b[0;34m\u001b[0m\u001b[0;34m\u001b[0m\u001b[0m\n\u001b[1;32m      5\u001b[0m             \u001b[0mgenerated_list\u001b[0m\u001b[0;34m[\u001b[0m\u001b[0mk\u001b[0m\u001b[0;34m]\u001b[0m \u001b[0;34m=\u001b[0m \u001b[0mleft_array\u001b[0m\u001b[0;34m[\u001b[0m\u001b[0mi\u001b[0m\u001b[0;34m]\u001b[0m\u001b[0;34m\u001b[0m\u001b[0;34m\u001b[0m\u001b[0m\n",
      "\u001b[0;31mTypeError\u001b[0m: object of type 'NoneType' has no len()"
     ]
    }
   ],
   "source": [
    "if __name__ == '__main__':\n",
    "    run_time_insertion = []\n",
    "\n",
    "    for i in length_of_insertion_list:\n",
    "#         print(\"No of input is : \",i)\n",
    "        generated_list = ran_num_gen(i)\n",
    "#         print(\"the random number generated is : \",generated_list)\n",
    "        \n",
    "        \n",
    "        merge_sorted = mergesort(generated_list)\n",
    "#         print(merge_sorted)\n",
    "\n",
    "#         start_time = time.time()\n",
    "#         sorted_list = insertion_sort(generated_list)\n",
    "#         end_time = time.time()\n",
    "\n",
    "#         run_time = end_time - start_time\n",
    "# #         print(\"the sorted list is : \",sorted_list)\n",
    "# #         print(\"total time taken for execution is : \",run_time)\n",
    "# #         print(\"\\n\")     \n",
    "#         run_time_insertion.append(run_time)"
   ]
  },
  {
   "cell_type": "code",
   "execution_count": null,
   "metadata": {},
   "outputs": [],
   "source": [
    "%matplotlib inline\n",
    "import matplotlib.pyplot as plt\n",
    "plt.style.use('seaborn-whitegrid')"
   ]
  },
  {
   "cell_type": "code",
   "execution_count": null,
   "metadata": {},
   "outputs": [],
   "source": [
    "plt.xlabel('The list')\n",
    "plt.ylabel('Run time in sec')\n",
    "plt.plot(length_of_insertion_list,run_time_insertion);\n",
    "plt.show()\n",
    "plt.draw()"
   ]
  }
 ],
 "metadata": {
  "kernelspec": {
   "display_name": "Python 3",
   "language": "python",
   "name": "python3"
  },
  "language_info": {
   "codemirror_mode": {
    "name": "ipython",
    "version": 3
   },
   "file_extension": ".py",
   "mimetype": "text/x-python",
   "name": "python",
   "nbconvert_exporter": "python",
   "pygments_lexer": "ipython3",
   "version": "3.7.4"
  }
 },
 "nbformat": 4,
 "nbformat_minor": 2
}
