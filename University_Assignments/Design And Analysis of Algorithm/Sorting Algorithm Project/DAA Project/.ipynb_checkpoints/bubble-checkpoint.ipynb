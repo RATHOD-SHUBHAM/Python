{
 "cells": [
  {
   "cell_type": "code",
   "execution_count": 10,
   "metadata": {},
   "outputs": [],
   "source": [
    "import time"
   ]
  },
  {
   "cell_type": "code",
   "execution_count": 11,
   "metadata": {},
   "outputs": [],
   "source": [
    "def getFile(filename):\n",
    "    f = open(filename, 'r')    \n",
    "    line = f.readline()\n",
    "    arrays = []\n",
    "    while line:\n",
    "        arrays.append([int(i) for i in line[1:-2].split(',')])  #CONVERT A STRING TO INTEGER\n",
    "        line = f.readline()   #READ ELEMENT LINE BY LINE\n",
    "    f.close()\n",
    "    return arrays"
   ]
  },
  {
   "cell_type": "code",
   "execution_count": 12,
   "metadata": {},
   "outputs": [],
   "source": [
    "def saveFile(filename, arrays):\n",
    "    file1 = open(filename,\"w\") \n",
    "    for arr in arrays:\n",
    "        line = str(arr)+'\\n'\n",
    "        file1.writelines(line) \n",
    "    file1.close() #to change file access modes "
   ]
  },
  {
   "cell_type": "code",
   "execution_count": 13,
   "metadata": {},
   "outputs": [],
   "source": [
    "import random\n",
    "\n",
    "def generate_array(length):\n",
    "    generated_array = []\n",
    "    for i in range(0,length):\n",
    "        generated_array.append(random.randint(0,length))\n",
    "    return generated_array"
   ]
  },
  {
   "cell_type": "code",
   "execution_count": 14,
   "metadata": {},
   "outputs": [
    {
     "name": "stdout",
     "output_type": "stream",
     "text": [
      "enter the size of a array: 1000\n"
     ]
    }
   ],
   "source": [
    "#creating a array of size 5,10 15..... 1000\n",
    "length_array = []\n",
    "i=0\n",
    "input_size = int(input(\"enter the size of a array: \"))\n",
    "while i<=input_size:\n",
    "    i+=5\n",
    "    length_array.append(i)\n",
    "#     print(length_array)\n",
    "    \n",
    "\n",
    "random_arrays = []\n",
    "asc_arrays = []\n",
    "des_arrays = []\n",
    "\n",
    "for i in length_array:\n",
    "    random_arrays.append(generate_array(i))   #STORE RANDOM NUMBER\n",
    "    asc_arrays.append(sorted(generate_array(i)))    #STORE NUMBER IN ASCENDING ORDER\n",
    "    des_arrays.append(sorted(generate_array(i), reverse=True))        #STORE NUMBER IN DESCENDING ORDER\n",
    "    \n",
    "saveFile('ascending_file.txt', asc_arrays)\n",
    "saveFile('descending_file.txt', des_arrays)\n",
    "saveFile('rand_file.txt', random_arrays)"
   ]
  },
  {
   "cell_type": "code",
   "execution_count": 15,
   "metadata": {},
   "outputs": [],
   "source": [
    "def bubble_sort(generated_list):\n",
    "    length_generated_list = len(generated_list)\n",
    "    \n",
    "    for i in range(length_generated_list):\n",
    "        for j in range(length_generated_list-i-1):         #to not compare last element\n",
    "            if(generated_list[j]>generated_list[j+1]):\n",
    "                generated_list[j],generated_list[j+1]=generated_list[j+1],generated_list[j]\n",
    "    return generated_list\n",
    "#     print(genearted_list)\n",
    "\n",
    "    "
   ]
  },
  {
   "cell_type": "code",
   "execution_count": 16,
   "metadata": {},
   "outputs": [
    {
     "name": "stdout",
     "output_type": "stream",
     "text": [
      "creating a file which sorted the descending order number: \n",
      "\n",
      "creating a file which sorted the ascending order number: \n",
      "\n",
      "creating a file which sorted the random number: \n",
      "\n"
     ]
    }
   ],
   "source": [
    "if __name__ == '__main__':\n",
    "    des_lists = getFile('descending_file.txt')\n",
    "    asc_lists = getFile('ascending_file.txt')\n",
    "    random_lists = getFile('rand_file.txt')\n",
    "                         \n",
    "    total_asc_bubble_time = []\n",
    "    total_des_bubble_time = []\n",
    "    total_ran_bubble_time = []\n",
    "    \n",
    "    sorted_des_bubble_list = []\n",
    "    sorted_asc_bubble_list = []\n",
    "    sorted_ran_bubble_list = []\n",
    "   \n",
    "    for genearted_list in des_lists:\n",
    "        \n",
    "        bubble_start_time = time.time()\n",
    "        sorted_des_bubble_list.append(bubble_sort(genearted_list)) #appending all the sorted list together to save in file\n",
    "        bubble_end_time = time.time()\n",
    "        \n",
    "        bubble_run_time = bubble_end_time-bubble_start_time   \n",
    "        \n",
    "        \n",
    "        total_des_bubble_time.append(bubble_run_time)              #appending all the run time together\n",
    "#         print(\"the total times are: \",total_bubble_time)\n",
    "    \n",
    "    for genearted_list in asc_lists:\n",
    "        \n",
    "        bubble_asc_start_time = time.time()\n",
    "        sorted_asc_bubble_list.append(bubble_sort(genearted_list))\n",
    "        bubble_asc_end_time = time.time()\n",
    "        \n",
    "        bubble_asc_run_time = bubble_asc_end_time-bubble_asc_start_time\n",
    "        \n",
    "        total_asc_bubble_time.append(bubble_asc_run_time)\n",
    "        \n",
    "        \n",
    "    for genearted_list in random_lists:\n",
    "        \n",
    "        bubble_ran_start_time = time.time()\n",
    "        sorted_ran_bubble_list.append(bubble_sort(genearted_list))\n",
    "        bubble_ran_end_time = time.time()\n",
    "        \n",
    "        bubble_ran_run_time = bubble_ran_end_time-bubble_ran_start_time\n",
    "        \n",
    "        total_ran_bubble_time.append(bubble_ran_run_time)\n",
    "        \n",
    "    print(\"creating a file which sorted the descending order number: \\n\")    \n",
    "    saveFile('bubble_descending_file.txt',sorted_des_bubble_list)\n",
    "    print(\"creating a file which sorted the ascending order number: \\n\") \n",
    "    saveFile('bubble_ascending_file.txt',sorted_asc_bubble_list)\n",
    "    print(\"creating a file which sorted the random number: \\n\") \n",
    "    saveFile('bubble_random_file.txt',sorted_ran_bubble_list)\n",
    "    "
   ]
  },
  {
   "cell_type": "code",
   "execution_count": 17,
   "metadata": {},
   "outputs": [],
   "source": [
    "%matplotlib inline\n",
    "import matplotlib.pyplot as plt\n",
    "plt.style.use('seaborn-whitegrid')"
   ]
  },
  {
   "cell_type": "code",
   "execution_count": 18,
   "metadata": {},
   "outputs": [
    {
     "data": {
      "image/png": "[encoded data removed]",
      "text/plain": [
       "<Figure size 432x288 with 1 Axes>"
      ]
     },
     "metadata": {},
     "output_type": "display_data"
    },
    {
     "data": {
      "text/plain": [
       "<Figure size 432x288 with 0 Axes>"
      ]
     },
     "metadata": {},
     "output_type": "display_data"
    }
   ],
   "source": [
    "plt.xlabel('Input Size')\n",
    "plt.ylabel('Run time in sec')\n",
    "fig = plt.gcf()\n",
    "plt.plot(length_array,total_asc_bubble_time);\n",
    "plt.plot(length_array,total_des_bubble_time)\n",
    "plt.plot(length_array,total_ran_bubble_time)\n",
    "plt.legend(['ascending order','descending order','random number'], loc='upper left')\n",
    "plt.show()\n",
    "plt.draw()\n",
    "fig.savefig('bubbleSort_runtime.png',dpi = 200)"
   ]
  }
 ],
 "metadata": {
  "kernelspec": {
   "display_name": "Python 3",
   "language": "python",
   "name": "python3"
  },
  "language_info": {
   "codemirror_mode": {
    "name": "ipython",
    "version": 3
   },
   "file_extension": ".py",
   "mimetype": "text/x-python",
   "name": "python",
   "nbconvert_exporter": "python",
   "pygments_lexer": "ipython3",
   "version": "3.7.4"
  }
 },
 "nbformat": 4,
 "nbformat_minor": 2
}
