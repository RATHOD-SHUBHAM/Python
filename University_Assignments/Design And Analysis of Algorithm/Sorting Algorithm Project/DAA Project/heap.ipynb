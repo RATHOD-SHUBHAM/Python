{
 "cells": [
  {
   "cell_type": "code",
   "execution_count": 121,
   "metadata": {},
   "outputs": [],
   "source": [
    "import time"
   ]
  },
  {
   "cell_type": "code",
   "execution_count": 122,
   "metadata": {},
   "outputs": [],
   "source": [
    "def getFile(filename):\n",
    "    f = open(filename, 'r')    \n",
    "    line = f.readline()\n",
    "    arrays = []\n",
    "    while line:\n",
    "        arrays.append([int(i) for i in line[1:-2].split(',')])  #CONVERT A STRING TO INTEGER\n",
    "        line = f.readline()   #READ ELEMENT LINE BY LINE\n",
    "    f.close()\n",
    "    return arrays"
   ]
  },
  {
   "cell_type": "code",
   "execution_count": 123,
   "metadata": {},
   "outputs": [],
   "source": [
    "def saveFile(filename, arrays):\n",
    "    file1 = open(filename,\"w\") \n",
    "    for arr in arrays:\n",
    "        line = str(arr)+'\\n'\n",
    "        file1.writelines(line) \n",
    "    file1.close() #to change file access modes"
   ]
  },
  {
   "cell_type": "code",
   "execution_count": 124,
   "metadata": {},
   "outputs": [],
   "source": [
    "import random\n",
    "\n",
    "def generate_array(length):\n",
    "    generated_array = []\n",
    "    for i in range(0,length):\n",
    "        generated_array.append(random.randint(0,length))\n",
    "    return generated_array"
   ]
  },
  {
   "cell_type": "code",
   "execution_count": 125,
   "metadata": {},
   "outputs": [],
   "source": [
    "#creating a array of size 5,10 15..... 1000\n",
    "length_array = []\n",
    "i=0\n",
    "while i<=1000:\n",
    "    i+=5\n",
    "    length_array.append(i)\n",
    "#     print(length_array)\n",
    "    \n",
    "\n",
    "random_arrays = []\n",
    "asc_arrays = []\n",
    "des_arrays = []\n",
    "\n",
    "for i in length_array:\n",
    "    random_arrays.append(generate_array(i))   #STORE RANDOM NUMBER\n",
    "    asc_arrays.append(sorted(generate_array(i)))    #STORE NUMBER IN ASCENDING ORDER\n",
    "    des_arrays.append(sorted(generate_array(i), reverse=True))        #STORE NUMBER IN DESCENDING ORDER\n",
    "    \n",
    "saveFile('ascending_file.txt', asc_arrays)\n",
    "saveFile('descending_file.txt', des_arrays)\n",
    "saveFile('rand_file.txt', random_arrays)"
   ]
  },
  {
   "cell_type": "code",
   "execution_count": 126,
   "metadata": {},
   "outputs": [],
   "source": [
    "def heapify(genearted_list,i,genearted_list_length):\n",
    "    left = 2*i+1\n",
    "    right = (2*i)+2            #index start at 0\n",
    "    max = i\n",
    "    \n",
    "    if(left< genearted_list_length) and (genearted_list[left]>genearted_list[i]):\n",
    "        max = left\n",
    "    else:\n",
    "        max = i\n",
    "        \n",
    "    if(right<genearted_list_length) and (genearted_list[right]>genearted_list[max]):\n",
    "        max = right\n",
    "        \n",
    "    if(max != i):\n",
    "        genearted_list[i],genearted_list[max] = genearted_list[max],genearted_list[i] \n",
    "        \n",
    "        genearted_list = heapify(genearted_list,genearted_list_length,max)\n",
    "    return genearted_list"
   ]
  },
  {
   "cell_type": "code",
   "execution_count": 127,
   "metadata": {},
   "outputs": [],
   "source": [
    "def buildheap(genearted_list):\n",
    "    genearted_list_length = len(genearted_list)\n",
    "    \n",
    "    for i in range(genearted_list_length,-1,-1):\n",
    "        genearted_list = heapify(genearted_list,i,genearted_list_length)\n",
    "    return genearted_list"
   ]
  },
  {
   "cell_type": "code",
   "execution_count": 128,
   "metadata": {},
   "outputs": [],
   "source": [
    "def heap_sort(genearted_list):\n",
    "    genearted_list_length = len(genearted_list)\n",
    "    buildheap(genearted_list)\n",
    "    \n",
    "    for i in range(genearted_list_length-1,0,-1):\n",
    "        genearted_list[i],genearted_list[0] = genearted_list[0],genearted_list[i]\n",
    "        heapify(genearted_list,i, 0) \n",
    "        \n",
    "    return(genearted_list)"
   ]
  },
  {
   "cell_type": "code",
   "execution_count": 129,
   "metadata": {},
   "outputs": [
    {
     "name": "stdout",
     "output_type": "stream",
     "text": [
      "creating a heap_sort file which sorted the descending order number: \n",
      "\n",
      "creating a heap_sort file which sorted the ascending order number: \n",
      "\n",
      "creating a heap_sort file which sorted the random number: \n",
      "\n"
     ]
    }
   ],
   "source": [
    "if __name__ =='__main__' :\n",
    "    heap_des_lists = getFile('descending_file.txt')\n",
    "    heap_asc_lists = getFile('ascending_file.txt')\n",
    "    heap_random_lists = getFile('rand_file.txt')\n",
    "                         \n",
    "    total_asc_heap_time = []\n",
    "    total_des_heap_time = []\n",
    "    total_ran_heap_time = []\n",
    "    \n",
    "    sorted_des_heap_list = []\n",
    "    sorted_asc_heap_list = []\n",
    "    sorted_ran_heap_list = []\n",
    "    \n",
    "\n",
    "    \n",
    "    for genearted_list in heap_des_lists:\n",
    "        \n",
    "        heap_desc_start_time = time.time()\n",
    "        sorted_des_heap_list.append(heap_sort(genearted_list))\n",
    "        heap_desc_end_time = time.time()\n",
    "        \n",
    "        heap_des_run_time = heap_desc_end_time-heap_desc_start_time\n",
    "        \n",
    "        total_des_heap_time.append(heap_des_run_time)\n",
    "        \n",
    "    for genearted_list in heap_asc_lists:\n",
    "        \n",
    "        heap_asc_start_time = time.time()\n",
    "        sorted_asc_heap_list.append(heap_sort(genearted_list))\n",
    "        heap_asc_end_time = time.time()\n",
    "        \n",
    "        heap_asc_run_time = heap_asc_end_time-heap_asc_start_time\n",
    "        \n",
    "        total_asc_heap_time.append(heap_asc_run_time)\n",
    "        \n",
    "        \n",
    "    for genearted_list in heap_random_lists:\n",
    "        \n",
    "        heap_ran_start_time = time.time()\n",
    "        sorted_ran_heap_list.append(heap_sort(genearted_list))\n",
    "        heap_ran_end_time = time.time()\n",
    "        \n",
    "        heap_ran_run_time = heap_ran_end_time-heap_ran_start_time\n",
    "        \n",
    "        total_ran_heap_time.append(heap_ran_run_time)\n",
    "        \n",
    "        \n",
    "    print(\"creating a heap_sort file which sorted the descending order number: \\n\")    \n",
    "    saveFile('insert_descending_file.txt',sorted_des_heap_list)\n",
    "    print(\"creating a heap_sort file which sorted the ascending order number: \\n\") \n",
    "    saveFile('insert_ascending_file.txt',sorted_asc_heap_list)\n",
    "    print(\"creating a heap_sort file which sorted the random number: \\n\") \n",
    "    saveFile('insert_random_file.txt',sorted_ran_heap_list)\n",
    "    "
   ]
  },
  {
   "cell_type": "code",
   "execution_count": 130,
   "metadata": {},
   "outputs": [],
   "source": [
    "%matplotlib inline\n",
    "import matplotlib.pyplot as plt\n",
    "plt.style.use('seaborn-whitegrid')"
   ]
  },
  {
   "cell_type": "code",
   "execution_count": 131,
   "metadata": {},
   "outputs": [
    {
     "data": {
      "image/png": "[encoded data removed]",
      "text/plain": [
       "<Figure size 432x288 with 1 Axes>"
      ]
     },
     "metadata": {},
     "output_type": "display_data"
    },
    {
     "data": {
      "text/plain": [
       "<Figure size 432x288 with 0 Axes>"
      ]
     },
     "metadata": {},
     "output_type": "display_data"
    }
   ],
   "source": [
    "plt.xlabel('Input Size')\n",
    "plt.ylabel('Run time in sec')\n",
    "fig = plt.gcf()\n",
    "plt.plot(length_array,total_asc_heap_time);\n",
    "plt.plot(length_array,total_des_heap_time)\n",
    "plt.plot(length_array,total_ran_heap_time)\n",
    "plt.legend(['ascending order','descending order','random number'], loc='upper left')\n",
    "plt.show()\n",
    "plt.draw()\n",
    "fig.savefig('bubbleSort_runtime.png',dpi = 200)"
   ]
  },
  {
   "cell_type": "code",
   "execution_count": null,
   "metadata": {},
   "outputs": [],
   "source": []
  }
 ],
 "metadata": {
  "kernelspec": {
   "display_name": "Python 3",
   "language": "python",
   "name": "python3"
  },
  "language_info": {
   "codemirror_mode": {
    "name": "ipython",
    "version": 3
   },
   "file_extension": ".py",
   "mimetype": "text/x-python",
   "name": "python",
   "nbconvert_exporter": "python",
   "pygments_lexer": "ipython3",
   "version": "3.7.4"
  }
 },
 "nbformat": 4,
 "nbformat_minor": 2
}
