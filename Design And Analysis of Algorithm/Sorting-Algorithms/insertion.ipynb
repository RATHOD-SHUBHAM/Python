{
 "cells": [
  {
   "cell_type": "code",
   "execution_count": 28,
   "metadata": {},
   "outputs": [],
   "source": [
    "import time"
   ]
  },
  {
   "cell_type": "code",
   "execution_count": 29,
   "metadata": {},
   "outputs": [],
   "source": [
    "def getFile(filename):\n",
    "    f = open(filename, 'r')    \n",
    "    line = f.readline()\n",
    "    arrays = []\n",
    "    while line:\n",
    "        arrays.append([int(i) for i in line[1:-2].split(',')])  #CONVERT A STRING TO INTEGER\n",
    "        line = f.readline()   #READ ELEMENT LINE BY LINE\n",
    "    f.close()\n",
    "    return arrays"
   ]
  },
  {
   "cell_type": "code",
   "execution_count": 30,
   "metadata": {},
   "outputs": [],
   "source": [
    "def saveFile(filename, arrays):\n",
    "    file1 = open(filename,\"w\") \n",
    "    for arr in arrays:\n",
    "        line = str(arr)+'\\n'\n",
    "        file1.writelines(line) \n",
    "    file1.close() #to change file access modes"
   ]
  },
  {
   "cell_type": "code",
   "execution_count": 31,
   "metadata": {},
   "outputs": [],
   "source": [
    "import random\n",
    "\n",
    "def generate_array(length):\n",
    "    generated_array = []\n",
    "    for i in range(0,length):\n",
    "        generated_array.append(random.randint(0,length))\n",
    "    return generated_array"
   ]
  },
  {
   "cell_type": "code",
   "execution_count": 32,
   "metadata": {},
   "outputs": [
    {
     "name": "stdout",
     "output_type": "stream",
     "text": [
      "enter the size of a array: 100\n"
     ]
    }
   ],
   "source": [
    "#creating a array of size 5,10 15..... 1000\n",
    "length_array = []\n",
    "i=0\n",
    "input_size = int(input(\"enter the size of a array: \"))\n",
    "while i<=input_size:\n",
    "# while i<=1000:\n",
    "    i+=5\n",
    "    length_array.append(i)\n",
    "#     print(length_array)\n",
    "    \n",
    "\n",
    "random_arrays = []\n",
    "asc_arrays = []\n",
    "des_arrays = []\n",
    "for i in length_array:\n",
    "    random_arrays.append(generate_array(i))   #STORE RANDOM NUMBER\n",
    "    asc_arrays.append(sorted(generate_array(i)))    #STORE NUMBER IN ASCENDING ORDER\n",
    "    des_arrays.append(sorted(generate_array(i), reverse=True))        #STORE NUMBER IN DESCENDING ORDER\n",
    "    \n",
    "saveFile('ascending_file.txt', asc_arrays)\n",
    "saveFile('descending_file.txt', des_arrays)\n",
    "saveFile('rand_file.txt', random_arrays)"
   ]
  },
  {
   "cell_type": "code",
   "execution_count": 33,
   "metadata": {},
   "outputs": [],
   "source": [
    "def insertion_sort(generated_list):\n",
    "    len_generated_list = len(generated_list)\n",
    "#     print(\"the length of the generated list : \",len_generated_list)\n",
    "    \n",
    "    for current_index in range(1,len_generated_list):\n",
    "        current_element = generated_list[current_index]  #current element \n",
    "        previous_index = current_index - 1                   #previous index\n",
    "        \n",
    "        while previous_index >= 0 and current_element < generated_list[previous_index]:\n",
    "            generated_list[previous_index+1] = generated_list[previous_index]\n",
    "            generated_list[previous_index] = current_element\n",
    "            previous_index = previous_index - 1\n",
    "        \n",
    "        \n",
    "    return generated_list"
   ]
  },
  {
   "cell_type": "code",
   "execution_count": 34,
   "metadata": {},
   "outputs": [
    {
     "name": "stdout",
     "output_type": "stream",
     "text": [
      "creating a insertion_sort file which sorted the descending order number: \n",
      "\n",
      "creating a insertion_sort file which sorted the ascending order number: \n",
      "\n",
      "creating a insertion_sort file which sorted the random number: \n",
      "\n"
     ]
    }
   ],
   "source": [
    "if __name__ == '__main__':\n",
    "    insert_des_lists = getFile('descending_file.txt')\n",
    "    insert_asc_lists = getFile('ascending_file.txt')\n",
    "    insert_random_lists = getFile('rand_file.txt')\n",
    "    \n",
    "    total_asc_insertion_time = []\n",
    "    total_des_insertion_time = []\n",
    "    total_ran_insertion_time = []\n",
    "    \n",
    "    sorted_des_inserted_list = []\n",
    "    sorted_asc_inserted_list = []\n",
    "    sorted_ran_inserted_list = []\n",
    "    \n",
    "    for genearted_list in insert_des_lists:\n",
    "        \n",
    "        insertion_desc_start_time = time.time()\n",
    "        sorted_des_inserted_list.append(insertion_sort(genearted_list))\n",
    "        insertion_desc_end_time = time.time()\n",
    "        \n",
    "        insertion_des_run_time = insertion_desc_end_time-insertion_desc_start_time\n",
    "        \n",
    "        total_des_insertion_time.append(insertion_des_run_time)\n",
    "        \n",
    "    for genearted_list in insert_asc_lists:\n",
    "        \n",
    "        insertion_asc_start_time = time.time()\n",
    "        sorted_asc_inserted_list.append(insertion_sort(genearted_list))\n",
    "        insertion_asc_end_time = time.time()\n",
    "        \n",
    "        insertion_asc_run_time = insertion_asc_end_time-insertion_asc_start_time\n",
    "        \n",
    "        total_asc_insertion_time.append(insertion_asc_run_time)\n",
    "        \n",
    "        \n",
    "    for genearted_list in insert_random_lists:\n",
    "        \n",
    "        insertion_ran_start_time = time.time()\n",
    "        sorted_ran_inserted_list.append(insertion_sort(genearted_list))\n",
    "        insertion_ran_end_time = time.time()\n",
    "        \n",
    "        insertion_ran_run_time = insertion_ran_end_time-insertion_ran_start_time\n",
    "        \n",
    "        total_ran_insertion_time.append(insertion_ran_run_time)\n",
    "        \n",
    "        \n",
    "    print(\"creating a insertion_sort file which sorted the descending order number: \\n\")    \n",
    "    saveFile('insert_descending_file.txt',sorted_des_inserted_list)\n",
    "    print(\"creating a insertion_sort file which sorted the ascending order number: \\n\") \n",
    "    saveFile('insert_ascending_file.txt',sorted_asc_inserted_list)\n",
    "    print(\"creating a insertion_sort file which sorted the random number: \\n\") \n",
    "    saveFile('insert_random_file.txt',sorted_ran_inserted_list)\n",
    "    "
   ]
  },
  {
   "cell_type": "code",
   "execution_count": 35,
   "metadata": {},
   "outputs": [],
   "source": [
    "%matplotlib inline\n",
    "import matplotlib.pyplot as plt\n",
    "plt.style.use('seaborn-whitegrid')"
   ]
  },
  {
   "cell_type": "code",
   "execution_count": 36,
   "metadata": {},
   "outputs": [
    {
     "data": {
      "image/png": "[encoded data removed]",
      "text/plain": [
       "<Figure size 432x288 with 1 Axes>"
      ]
     },
     "metadata": {},
     "output_type": "display_data"
    }
   ],
   "source": [
    "plt.xlabel('Input Size')\n",
    "plt.ylabel('Run time in sec')\n",
    "fig = plt.gcf()\n",
    "plt.plot(length_array,total_asc_insertion_time);\n",
    "plt.plot(length_array,total_des_insertion_time)\n",
    "plt.plot(length_array,total_ran_insertion_time)\n",
    "plt.legend(['ascending order','descending order','random number'], loc='upper left')\n",
    "plt.show()\n",
    "# plt.draw()\n",
    "fig.savefig('insertionSort_runtime.png',dpi = 200)"
   ]
  },
  {
   "cell_type": "code",
   "execution_count": null,
   "metadata": {},
   "outputs": [],
   "source": []
  }
 ],
 "metadata": {
  "kernelspec": {
   "display_name": "Python 3",
   "language": "python",
   "name": "python3"
  },
  "language_info": {
   "codemirror_mode": {
    "name": "ipython",
    "version": 3
   },
   "file_extension": ".py",
   "mimetype": "text/x-python",
   "name": "python",
   "nbconvert_exporter": "python",
   "pygments_lexer": "ipython3",
   "version": "3.7.4"
  }
 },
 "nbformat": 4,
 "nbformat_minor": 2
}
