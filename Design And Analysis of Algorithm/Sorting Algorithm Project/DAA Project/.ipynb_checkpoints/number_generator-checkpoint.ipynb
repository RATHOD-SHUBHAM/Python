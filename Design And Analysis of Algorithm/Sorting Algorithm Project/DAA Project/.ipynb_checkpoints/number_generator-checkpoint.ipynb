{
 "cells": [
  {
   "cell_type": "code",
   "execution_count": 11,
   "metadata": {},
   "outputs": [
    {
     "name": "stdout",
     "output_type": "stream",
     "text": [
      "[0, 1, 2, 3, 4, 5, 6, 7, 8, 9, 10]\n",
      "[11, 10, 9, 8, 7, 6, 5, 4, 3, 2, 1, 0]\n"
     ]
    }
   ],
   "source": [
    "if __name__ == '__main__':\n",
    "    list = []\n",
    "    reverser_list = []\n",
    "    for i in range(0,11):\n",
    "        list.append(i)\n",
    "    print(list)\n",
    "    for i in range(11,-1,-1):\n",
    "        reverser_list.append(i)\n",
    "    print(reverser_list)"
   ]
  },
  {
   "cell_type": "code",
   "execution_count": 15,
   "metadata": {},
   "outputs": [
    {
     "name": "stdout",
     "output_type": "stream",
     "text": [
      "012345678910\n",
      "\n",
      "11109876543210"
     ]
    }
   ],
   "source": [
    "if __name__ == '__main__':\n",
    "    for i in range(0,11):\n",
    "        print(i,end='')\n",
    "    print(\"\\n\")\n",
    "    for i in range(11,-1,-1):\n",
    "        print(i,end='')"
   ]
  },
  {
   "cell_type": "code",
   "execution_count": 1,
   "metadata": {},
   "outputs": [],
   "source": [
    "import random"
   ]
  },
  {
   "cell_type": "code",
   "execution_count": 2,
   "metadata": {},
   "outputs": [],
   "source": [
    "def ran_num_gen(length_of_list):\n",
    "    random_number = []\n",
    "    for i in range(0,length_of_list):\n",
    "        random_number.append(random.randint(0,length_of_list))  #generate number btn 0 and the the number you enter.\n",
    "    return random_number"
   ]
  },
  {
   "cell_type": "code",
   "execution_count": 4,
   "metadata": {},
   "outputs": [
    {
     "name": "stdout",
     "output_type": "stream",
     "text": [
      "[22, 69, 11, 45, 52, 85, 13, 31, 23, 28, 49, 15, 15, 8, 76, 19, 67, 89, 61, 10, 99, 27, 15, 94, 25, 100, 69, 86, 8, 4, 27, 39, 3, 70, 50, 87, 9, 95, 71, 9, 46, 51, 22, 77, 1, 82, 98, 90, 86, 9, 61, 29, 3, 68, 93, 0, 45, 6, 5, 63, 8, 92, 72, 90, 23, 10, 11, 26, 68, 39, 100, 75, 69, 17, 26, 57, 90, 50, 98, 10, 32, 87, 35, 83, 14, 28, 64, 20, 84, 70, 32, 33, 61, 32, 6, 91, 27, 42, 99, 59]"
     ]
    }
   ],
   "source": [
    "if __name__ == '__main__':\n",
    "    generated_number = ran_num_gen(100)\n",
    "    print(generated_number,end='')"
   ]
  },
  {
   "cell_type": "code",
   "execution_count": null,
   "metadata": {},
   "outputs": [],
   "source": []
  }
 ],
 "metadata": {
  "kernelspec": {
   "display_name": "Python 3",
   "language": "python",
   "name": "python3"
  },
  "language_info": {
   "codemirror_mode": {
    "name": "ipython",
    "version": 3
   },
   "file_extension": ".py",
   "mimetype": "text/x-python",
   "name": "python",
   "nbconvert_exporter": "python",
   "pygments_lexer": "ipython3",
   "version": "3.7.4"
  }
 },
 "nbformat": 4,
 "nbformat_minor": 2
}
