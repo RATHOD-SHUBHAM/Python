{
 "cells": [
  {
   "cell_type": "code",
   "execution_count": 11,
   "metadata": {},
   "outputs": [
    {
     "name": "stdout",
     "output_type": "stream",
     "text": [
      "[0, 1, 2, 3, 4, 5, 6, 7, 8, 9, 10]\n",
      "[11, 10, 9, 8, 7, 6, 5, 4, 3, 2, 1, 0]\n"
     ]
    }
   ],
   "source": [
    "if __name__ == '__main__':\n",
    "    list = []\n",
    "    reverser_list = []\n",
    "    for i in range(0,11):\n",
    "        list.append(i)\n",
    "    print(list)\n",
    "    for i in range(11,-1,-1):\n",
    "        reverser_list.append(i)\n",
    "    print(reverser_list)"
   ]
  },
  {
   "cell_type": "code",
   "execution_count": 15,
   "metadata": {},
   "outputs": [
    {
     "name": "stdout",
     "output_type": "stream",
     "text": [
      "012345678910\n",
      "\n",
      "11109876543210"
     ]
    }
   ],
   "source": [
    "if __name__ == '__main__':\n",
    "    for i in range(0,11):\n",
    "        print(i,end='')\n",
    "    print(\"\\n\")\n",
    "    for i in range(11,-1,-1):\n",
    "        print(i,end='')"
   ]
  },
  {
   "cell_type": "code",
   "execution_count": null,
   "metadata": {},
   "outputs": [],
   "source": []
  }
 ],
 "metadata": {
  "kernelspec": {
   "display_name": "Python 3",
   "language": "python",
   "name": "python3"
  },
  "language_info": {
   "codemirror_mode": {
    "name": "ipython",
    "version": 3
   },
   "file_extension": ".py",
   "mimetype": "text/x-python",
   "name": "python",
   "nbconvert_exporter": "python",
   "pygments_lexer": "ipython3",
   "version": "3.7.4"
  }
 },
 "nbformat": 4,
 "nbformat_minor": 2
}
