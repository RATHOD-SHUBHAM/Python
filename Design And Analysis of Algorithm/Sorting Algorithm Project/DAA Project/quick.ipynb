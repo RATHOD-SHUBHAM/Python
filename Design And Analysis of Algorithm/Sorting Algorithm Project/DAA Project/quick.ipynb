{
 "cells": [
  {
   "cell_type": "code",
   "execution_count": 11,
   "metadata": {},
   "outputs": [],
   "source": [
    "import time"
   ]
  },
  {
   "cell_type": "code",
   "execution_count": 12,
   "metadata": {},
   "outputs": [],
   "source": [
    "def getFile(filename):\n",
    "    f = open(filename, 'r')    \n",
    "    line = f.readline()\n",
    "    arrays = []\n",
    "    while line:\n",
    "        arrays.append([int(i) for i in line[1:-2].split(',')])  #CONVERT A STRING TO INTEGER\n",
    "        line = f.readline()   #READ ELEMENT LINE BY LINE\n",
    "    f.close()\n",
    "    return arrays"
   ]
  },
  {
   "cell_type": "code",
   "execution_count": 13,
   "metadata": {},
   "outputs": [],
   "source": [
    "def saveFile(filename, arrays):\n",
    "    file1 = open(filename,\"w\") \n",
    "    for arr in arrays:\n",
    "        line = str(arr)+'\\n'\n",
    "        file1.writelines(line) \n",
    "    file1.close() #to change file access modes"
   ]
  },
  {
   "cell_type": "code",
   "execution_count": 14,
   "metadata": {},
   "outputs": [],
   "source": [
    "import random\n",
    "\n",
    "def generate_array(length):\n",
    "    generated_array = []\n",
    "    for i in range(0,length):\n",
    "        generated_array.append(random.randint(0,length))\n",
    "    return generated_array"
   ]
  },
  {
   "cell_type": "code",
   "execution_count": 15,
   "metadata": {},
   "outputs": [],
   "source": [
    "#creating a array of size 5,10 15..... 1000\n",
    "length_array = []\n",
    "i=0\n",
    "# input_size_number = int(input(\"enter the input size: \"))\n",
    "while i<=100:\n",
    "    i+=5\n",
    "    length_array.append(i)\n",
    "#     print(length_array)\n",
    "#     print(type(length_array))\n",
    "    \n",
    "\n",
    "random_arrays = []\n",
    "asc_arrays = []\n",
    "des_arrays = []\n",
    "for i in length_array:\n",
    "    random_arrays.append(generate_array(i))   #STORE RANDOM NUMBER\n",
    "    asc_arrays.append(sorted(generate_array(i)))    #STORE NUMBER IN ASCENDING ORDER\n",
    "    des_arrays.append(sorted(generate_array(i), reverse=True))        #STORE NUMBER IN DESCENDING ORDER\n",
    "    \n",
    "saveFile('ascending_file.txt', asc_arrays)\n",
    "saveFile('descending_file.txt', des_arrays)\n",
    "saveFile('rand_file.txt', random_arrays)"
   ]
  },
  {
   "cell_type": "code",
   "execution_count": 16,
   "metadata": {},
   "outputs": [],
   "source": [
    "def quicksort(A,low,high):\n",
    "    if low < high:\n",
    "        p = partition(A,low,high)\n",
    "        quicksort(A,low,p-1)\n",
    "        quicksort(A,p+1,high)\n",
    "    return A"
   ]
  },
  {
   "cell_type": "code",
   "execution_count": 17,
   "metadata": {},
   "outputs": [],
   "source": [
    "def partition(A,low,high):\n",
    "    pivot = A[high]\n",
    "    i = low - 1\n",
    "    for j in range(low,high):\n",
    "        if (A[j] < pivot):\n",
    "            i = i+1\n",
    "            A[i],A[j] = A[j],A[i]\n",
    "            \n",
    "    A[i+1],A[high] = A[high],A[i+1]\n",
    "    \n",
    "    return i+1 "
   ]
  },
  {
   "cell_type": "code",
   "execution_count": 18,
   "metadata": {},
   "outputs": [
    {
     "name": "stdout",
     "output_type": "stream",
     "text": [
      "[[4, 4, 3, 3, 2], [10, 9, 9, 7, 6, 5, 5, 5, 5, 1], [15, 14, 8, 8, 7, 6, 6, 6, 5, 4, 3, 3, 3, 2, 0], [20, 19, 18, 17, 15, 15, 12, 11, 10, 10, 9, 7, 6, 6, 5, 4, 3, 3, 0, 0], [25, 23, 23, 20, 18, 18, 18, 17, 17, 15, 14, 13, 13, 13, 13, 12, 10, 8, 8, 6, 4, 3, 3, 2, 0], [30, 29, 29, 28, 27, 27, 25, 24, 23, 22, 22, 21, 18, 18, 18, 17, 17, 16, 14, 13, 12, 12, 12, 11, 11, 9, 7, 5, 2, 1], [35, 34, 33, 33, 30, 27, 27, 26, 25, 24, 23, 22, 22, 21, 20, 19, 17, 17, 17, 15, 14, 13, 13, 11, 11, 11, 10, 10, 7, 6, 5, 3, 2, 1, 1], [37, 36, 35, 35, 34, 34, 34, 32, 31, 30, 29, 29, 29, 27, 27, 26, 25, 25, 24, 21, 19, 18, 18, 16, 15, 15, 14, 14, 13, 10, 9, 8, 8, 7, 4, 3, 2, 2, 2, 1], [45, 43, 43, 41, 41, 38, 38, 38, 37, 35, 34, 33, 32, 31, 30, 30, 30, 27, 27, 26, 25, 25, 24, 22, 21, 21, 19, 19, 18, 17, 16, 16, 12, 11, 10, 9, 7, 6, 6, 4, 2, 2, 2, 1, 0], [50, 49, 47, 47, 46, 44, 44, 43, 40, 39, 39, 37, 37, 36, 34, 33, 32, 30, 27, 27, 25, 24, 23, 23, 21, 20, 20, 20, 16, 16, 16, 16, 15, 15, 15, 12, 11, 11, 10, 9, 9, 8, 7, 7, 5, 5, 4, 4, 2, 1], [55, 55, 53, 50, 50, 50, 48, 48, 47, 46, 44, 44, 43, 42, 41, 40, 37, 36, 35, 35, 34, 33, 33, 30, 29, 29, 28, 28, 27, 27, 27, 25, 22, 20, 20, 18, 16, 14, 14, 12, 12, 12, 11, 10, 10, 10, 9, 9, 9, 8, 8, 5, 4, 2, 0], [60, 59, 57, 57, 57, 56, 54, 53, 52, 51, 50, 50, 49, 49, 48, 48, 46, 45, 44, 42, 41, 37, 36, 34, 33, 32, 30, 29, 28, 27, 27, 25, 24, 24, 23, 23, 21, 20, 20, 17, 16, 13, 13, 12, 7, 7, 6, 6, 6, 5, 4, 4, 4, 4, 3, 2, 1, 0, 0, 0], [65, 64, 64, 63, 59, 59, 58, 56, 55, 55, 55, 53, 53, 53, 52, 52, 52, 52, 51, 51, 47, 46, 46, 46, 46, 44, 42, 40, 40, 40, 39, 37, 35, 35, 31, 30, 28, 28, 27, 26, 25, 22, 21, 21, 21, 21, 21, 20, 19, 17, 16, 16, 14, 11, 8, 8, 6, 6, 5, 5, 4, 3, 1, 0, 0], [69, 69, 67, 66, 65, 63, 63, 61, 58, 56, 55, 54, 54, 54, 53, 51, 51, 50, 49, 48, 47, 44, 43, 43, 41, 40, 40, 39, 39, 39, 38, 38, 37, 37, 35, 34, 33, 32, 31, 30, 30, 29, 29, 25, 24, 23, 21, 21, 20, 20, 18, 18, 17, 17, 16, 16, 16, 14, 14, 12, 8, 6, 6, 6, 4, 4, 3, 1, 1, 1], [74, 73, 73, 72, 72, 70, 70, 68, 68, 67, 63, 62, 60, 58, 58, 56, 49, 49, 48, 48, 46, 45, 44, 42, 41, 41, 40, 40, 39, 39, 38, 38, 37, 37, 37, 33, 32, 31, 30, 28, 28, 27, 27, 26, 26, 24, 24, 23, 21, 20, 20, 20, 19, 18, 18, 18, 17, 16, 15, 14, 14, 14, 14, 12, 11, 10, 9, 7, 6, 6, 3, 2, 1, 1, 1], [80, 79, 78, 78, 77, 76, 75, 75, 72, 72, 67, 66, 64, 63, 60, 60, 60, 59, 58, 55, 54, 50, 50, 49, 48, 45, 44, 44, 43, 43, 42, 42, 42, 42, 41, 41, 40, 40, 39, 39, 39, 38, 38, 37, 36, 34, 33, 33, 33, 32, 27, 23, 21, 21, 21, 20, 18, 17, 16, 15, 14, 14, 13, 13, 11, 10, 9, 8, 6, 5, 4, 3, 3, 1, 1, 1, 1, 1, 0, 0], [85, 85, 84, 84, 83, 83, 82, 82, 81, 80, 80, 77, 77, 75, 75, 74, 74, 73, 72, 71, 69, 69, 68, 66, 65, 65, 65, 64, 62, 62, 61, 59, 58, 58, 58, 58, 55, 54, 51, 51, 50, 49, 49, 48, 47, 47, 45, 45, 45, 44, 44, 41, 41, 40, 40, 40, 36, 35, 35, 34, 34, 32, 32, 31, 29, 29, 25, 25, 22, 20, 18, 17, 16, 15, 15, 14, 13, 12, 8, 3, 3, 3, 2, 1, 1], [90, 88, 87, 86, 85, 85, 84, 84, 83, 82, 82, 82, 81, 81, 80, 79, 79, 78, 75, 74, 74, 71, 70, 70, 69, 68, 66, 63, 60, 55, 54, 54, 52, 51, 51, 49, 49, 47, 46, 44, 44, 41, 40, 39, 38, 38, 37, 36, 32, 32, 31, 30, 30, 30, 30, 30, 29, 28, 28, 28, 27, 27, 27, 25, 25, 23, 22, 21, 19, 19, 17, 16, 16, 15, 15, 14, 13, 13, 10, 9, 9, 9, 7, 7, 2, 2, 2, 1, 1, 0], [95, 94, 92, 92, 91, 91, 91, 90, 88, 88, 88, 88, 85, 83, 82, 82, 82, 77, 76, 76, 76, 75, 75, 74, 71, 71, 69, 68, 68, 67, 67, 65, 64, 64, 63, 62, 62, 60, 55, 55, 53, 52, 51, 51, 50, 50, 47, 46, 43, 43, 41, 41, 39, 37, 37, 34, 34, 33, 32, 31, 31, 31, 31, 31, 29, 26, 25, 25, 24, 24, 19, 19, 19, 19, 18, 18, 18, 16, 10, 10, 10, 9, 9, 8, 8, 7, 7, 5, 5, 5, 3, 2, 2, 1, 0], [100, 100, 99, 98, 97, 97, 93, 92, 92, 91, 89, 89, 88, 88, 85, 84, 83, 83, 83, 82, 81, 81, 78, 77, 77, 74, 74, 73, 73, 72, 71, 71, 71, 68, 67, 66, 66, 64, 63, 63, 62, 61, 60, 58, 58, 57, 56, 55, 55, 54, 53, 51, 50, 49, 46, 45, 44, 44, 43, 43, 42, 40, 39, 38, 37, 34, 32, 32, 31, 31, 27, 26, 26, 26, 24, 23, 22, 22, 21, 21, 19, 18, 17, 16, 16, 15, 15, 15, 14, 13, 12, 11, 8, 8, 6, 1, 1, 1, 1, 0], [104, 103, 102, 102, 100, 100, 100, 99, 97, 96, 96, 95, 93, 91, 89, 89, 88, 88, 85, 83, 81, 80, 79, 76, 76, 76, 76, 75, 73, 73, 72, 70, 69, 69, 69, 69, 67, 67, 64, 64, 61, 58, 58, 58, 57, 57, 57, 56, 55, 55, 55, 53, 53, 52, 51, 51, 51, 51, 51, 50, 50, 46, 44, 44, 44, 41, 40, 40, 39, 39, 38, 37, 35, 35, 34, 32, 30, 29, 26, 25, 24, 22, 22, 21, 19, 16, 14, 12, 12, 11, 10, 9, 7, 6, 6, 5, 3, 3, 3, 3, 2, 2, 2, 2, 0]]\n",
      "\n",
      "\n",
      "[[1, 2, 2, 4, 5], [1, 2, 2, 4, 6, 8, 9, 9, 10, 10], [3, 3, 4, 5, 5, 6, 6, 7, 7, 7, 8, 10, 11, 11, 13], [0, 0, 1, 2, 2, 3, 4, 4, 5, 7, 9, 9, 10, 10, 11, 11, 17, 18, 20, 20], [0, 3, 3, 4, 4, 6, 7, 8, 9, 10, 10, 11, 11, 13, 15, 16, 16, 16, 19, 19, 20, 20, 24, 24, 25], [0, 0, 1, 1, 1, 2, 6, 9, 11, 11, 11, 11, 13, 16, 16, 17, 18, 19, 19, 19, 20, 20, 21, 21, 23, 23, 27, 28, 28, 30], [0, 0, 1, 2, 2, 3, 4, 5, 9, 10, 13, 15, 16, 18, 18, 19, 19, 19, 20, 23, 23, 23, 23, 23, 25, 25, 27, 30, 30, 32, 32, 33, 33, 35, 35], [0, 0, 1, 3, 7, 7, 10, 10, 13, 15, 17, 17, 17, 17, 17, 17, 18, 19, 19, 22, 23, 24, 24, 25, 26, 27, 27, 28, 28, 29, 32, 32, 32, 36, 36, 37, 38, 38, 39, 40], [0, 0, 0, 1, 2, 3, 4, 4, 4, 5, 5, 5, 8, 8, 10, 14, 14, 15, 17, 18, 19, 19, 21, 21, 22, 23, 23, 25, 26, 27, 27, 28, 30, 33, 35, 36, 38, 38, 39, 41, 42, 43, 43, 44, 44], [2, 2, 4, 5, 5, 5, 6, 8, 8, 11, 12, 12, 12, 12, 13, 13, 14, 14, 14, 16, 18, 20, 20, 21, 22, 22, 22, 23, 23, 23, 26, 28, 28, 29, 29, 32, 32, 32, 33, 33, 35, 35, 36, 38, 38, 38, 43, 44, 46, 49], [0, 2, 2, 3, 3, 4, 4, 6, 8, 9, 10, 10, 11, 11, 12, 14, 15, 17, 18, 21, 21, 23, 23, 23, 24, 25, 25, 26, 29, 31, 32, 34, 35, 37, 38, 39, 40, 40, 41, 41, 41, 42, 42, 44, 47, 47, 48, 49, 50, 50, 50, 52, 54, 54, 54], [0, 2, 4, 4, 5, 5, 5, 6, 10, 12, 12, 13, 13, 14, 15, 15, 16, 16, 18, 19, 20, 20, 21, 21, 23, 23, 23, 23, 24, 24, 25, 29, 29, 30, 32, 32, 33, 35, 36, 39, 39, 39, 41, 44, 47, 48, 48, 49, 49, 51, 51, 52, 52, 53, 54, 55, 55, 57, 60, 60], [0, 1, 2, 3, 5, 6, 7, 7, 7, 8, 8, 11, 11, 12, 12, 13, 13, 16, 17, 17, 21, 22, 23, 24, 24, 24, 25, 25, 27, 27, 28, 30, 32, 33, 34, 34, 34, 35, 36, 36, 37, 37, 38, 39, 41, 41, 44, 44, 46, 47, 48, 48, 49, 49, 53, 54, 55, 56, 57, 57, 60, 61, 61, 64, 65], [0, 1, 1, 2, 2, 5, 5, 7, 7, 9, 10, 12, 13, 14, 14, 14, 14, 16, 18, 20, 21, 21, 22, 22, 22, 25, 27, 27, 27, 30, 31, 33, 33, 34, 35, 35, 37, 39, 39, 39, 42, 42, 43, 44, 44, 44, 45, 45, 47, 48, 50, 51, 55, 55, 58, 58, 60, 60, 61, 63, 63, 63, 64, 64, 65, 66, 66, 66, 67, 69], [2, 2, 2, 4, 4, 4, 5, 5, 5, 6, 6, 7, 12, 12, 13, 14, 15, 16, 16, 17, 17, 17, 17, 18, 20, 21, 22, 23, 24, 25, 25, 25, 26, 28, 29, 30, 30, 30, 30, 31, 32, 34, 36, 36, 36, 37, 38, 43, 44, 44, 49, 49, 49, 49, 52, 53, 55, 55, 57, 58, 58, 60, 64, 65, 65, 66, 68, 71, 71, 72, 72, 73, 74, 74, 75], [0, 3, 4, 4, 4, 5, 8, 8, 8, 9, 10, 10, 12, 12, 14, 15, 15, 15, 16, 17, 19, 21, 24, 24, 25, 26, 26, 27, 27, 29, 29, 29, 30, 31, 31, 33, 40, 41, 42, 45, 47, 47, 47, 48, 49, 50, 51, 52, 52, 53, 54, 55, 55, 55, 56, 57, 57, 60, 62, 63, 65, 67, 68, 71, 71, 71, 74, 74, 74, 75, 75, 75, 77, 77, 78, 78, 79, 80, 80, 80], [0, 0, 0, 1, 1, 2, 2, 3, 4, 4, 4, 4, 5, 6, 9, 15, 16, 16, 17, 18, 20, 22, 23, 24, 25, 29, 29, 29, 31, 31, 32, 32, 32, 34, 35, 35, 36, 39, 40, 42, 42, 44, 45, 46, 46, 46, 47, 47, 48, 49, 51, 52, 52, 53, 53, 55, 55, 56, 56, 57, 60, 60, 62, 64, 64, 65, 65, 66, 68, 68, 68, 68, 69, 70, 71, 76, 77, 79, 80, 81, 81, 81, 83, 83, 84], [0, 2, 2, 2, 3, 3, 3, 3, 3, 7, 10, 10, 10, 11, 11, 11, 12, 14, 14, 15, 17, 17, 18, 20, 21, 21, 23, 27, 27, 28, 28, 28, 29, 29, 29, 32, 32, 32, 33, 33, 34, 35, 36, 36, 38, 38, 40, 40, 41, 50, 52, 53, 53, 54, 55, 55, 56, 57, 58, 59, 61, 61, 62, 62, 63, 64, 64, 64, 64, 65, 66, 67, 68, 70, 71, 71, 71, 73, 74, 74, 75, 77, 78, 78, 79, 81, 86, 89, 89, 90], [3, 4, 4, 5, 5, 6, 7, 8, 8, 8, 10, 11, 14, 14, 16, 17, 18, 18, 20, 22, 24, 24, 24, 24, 24, 24, 25, 25, 28, 28, 31, 31, 32, 33, 35, 35, 39, 39, 41, 43, 45, 47, 48, 48, 49, 50, 50, 52, 52, 53, 53, 55, 55, 55, 55, 56, 56, 57, 58, 59, 60, 60, 64, 64, 66, 66, 68, 69, 70, 70, 72, 72, 74, 75, 76, 76, 77, 78, 79, 82, 82, 83, 83, 83, 86, 87, 89, 90, 91, 91, 93, 94, 94, 94, 95], [1, 3, 4, 7, 8, 10, 13, 14, 15, 16, 16, 17, 17, 18, 19, 19, 19, 20, 20, 21, 22, 22, 22, 23, 24, 26, 27, 28, 28, 29, 30, 31, 34, 34, 34, 34, 35, 37, 39, 40, 40, 41, 41, 41, 42, 43, 43, 44, 44, 45, 47, 49, 49, 50, 50, 52, 52, 53, 54, 57, 58, 58, 59, 60, 60, 61, 62, 63, 66, 66, 68, 68, 71, 71, 71, 73, 73, 79, 81, 81, 84, 84, 86, 86, 88, 88, 88, 89, 90, 90, 92, 92, 93, 93, 95, 96, 98, 99, 100, 100], [1, 1, 1, 1, 2, 3, 4, 4, 5, 6, 9, 10, 10, 12, 12, 13, 14, 18, 18, 19, 19, 21, 21, 21, 23, 24, 25, 27, 30, 31, 31, 33, 33, 33, 35, 37, 37, 39, 39, 40, 41, 41, 43, 44, 44, 46, 47, 48, 49, 49, 50, 53, 54, 55, 55, 57, 57, 58, 58, 61, 61, 64, 64, 64, 65, 65, 65, 65, 67, 67, 69, 70, 70, 70, 70, 71, 71, 73, 73, 74, 76, 76, 78, 84, 84, 85, 87, 87, 88, 89, 89, 89, 90, 91, 92, 92, 92, 94, 98, 98, 98, 99, 101, 102, 105]]\n",
      "\n",
      "\n",
      "[[3, 0, 4, 5, 0], [9, 8, 9, 10, 9, 4, 2, 2, 8, 7], [15, 6, 11, 2, 1, 4, 9, 10, 11, 10, 8, 5, 9, 5, 0], [7, 10, 3, 9, 7, 19, 20, 15, 3, 16, 7, 6, 11, 19, 2, 18, 3, 4, 2, 0], [0, 3, 11, 25, 4, 11, 20, 3, 14, 4, 18, 25, 4, 10, 25, 24, 7, 7, 10, 6, 8, 8, 7, 19, 1], [9, 6, 10, 17, 30, 22, 19, 1, 27, 21, 25, 19, 1, 3, 17, 3, 15, 4, 20, 19, 11, 1, 28, 0, 30, 0, 26, 30, 6, 20], [20, 33, 26, 4, 19, 17, 12, 19, 23, 22, 18, 17, 17, 32, 13, 7, 2, 23, 30, 6, 26, 12, 6, 26, 16, 1, 23, 27, 21, 26, 30, 17, 5, 34, 21], [27, 4, 9, 7, 33, 5, 21, 25, 39, 2, 14, 12, 29, 6, 25, 17, 8, 25, 35, 16, 31, 8, 21, 8, 2, 11, 25, 29, 1, 6, 6, 36, 18, 12, 39, 8, 34, 16, 9, 17], [7, 7, 17, 2, 19, 6, 30, 25, 26, 13, 45, 16, 32, 26, 25, 27, 6, 7, 10, 1, 11, 21, 23, 2, 32, 34, 21, 25, 22, 26, 37, 39, 12, 42, 17, 16, 37, 39, 4, 32, 26, 33, 17, 4, 22], [35, 2, 36, 17, 31, 40, 8, 19, 3, 49, 49, 0, 13, 20, 46, 30, 39, 20, 50, 1, 10, 30, 19, 24, 33, 13, 7, 50, 22, 37, 41, 7, 32, 21, 44, 3, 13, 1, 16, 16, 34, 15, 20, 24, 38, 23, 49, 1, 10, 3], [17, 19, 26, 39, 43, 44, 44, 10, 13, 27, 36, 46, 22, 15, 25, 37, 2, 54, 25, 51, 37, 54, 47, 37, 45, 23, 50, 13, 10, 7, 0, 48, 55, 39, 31, 30, 47, 8, 8, 51, 3, 26, 36, 1, 23, 35, 34, 31, 30, 41, 32, 39, 2, 0, 43], [32, 22, 10, 60, 43, 11, 33, 15, 47, 0, 32, 41, 18, 32, 49, 10, 28, 2, 49, 48, 10, 46, 59, 5, 10, 4, 54, 13, 38, 59, 11, 14, 27, 20, 36, 40, 47, 16, 8, 7, 8, 57, 13, 50, 18, 20, 27, 15, 35, 32, 35, 19, 9, 7, 55, 37, 29, 56, 46, 43], [32, 58, 8, 22, 48, 41, 50, 36, 33, 37, 16, 60, 41, 7, 36, 8, 41, 44, 33, 15, 2, 60, 49, 1, 42, 25, 7, 20, 64, 27, 61, 23, 58, 46, 26, 8, 34, 29, 37, 24, 57, 62, 16, 10, 62, 56, 61, 42, 42, 26, 29, 2, 9, 58, 56, 23, 17, 7, 42, 63, 42, 3, 46, 57, 2], [64, 4, 36, 51, 19, 15, 9, 13, 13, 39, 35, 12, 37, 23, 22, 15, 32, 31, 13, 32, 46, 30, 15, 26, 41, 19, 28, 13, 63, 45, 65, 55, 24, 47, 2, 34, 35, 53, 27, 54, 40, 51, 0, 18, 31, 56, 5, 59, 7, 57, 51, 5, 63, 29, 11, 2, 0, 35, 0, 44, 54, 37, 4, 60, 50, 37, 42, 1, 1, 22], [26, 48, 16, 63, 51, 22, 39, 16, 20, 70, 0, 56, 72, 15, 39, 34, 13, 9, 42, 71, 27, 48, 18, 46, 22, 74, 71, 7, 22, 5, 73, 11, 46, 60, 26, 54, 13, 16, 4, 48, 56, 16, 37, 42, 56, 32, 49, 32, 59, 60, 10, 56, 45, 55, 15, 54, 34, 43, 18, 25, 65, 14, 19, 63, 37, 66, 38, 42, 34, 57, 38, 16, 38, 0, 65], [32, 28, 30, 48, 69, 61, 13, 26, 75, 52, 5, 55, 71, 12, 13, 64, 51, 6, 8, 69, 71, 14, 45, 22, 13, 16, 20, 18, 15, 55, 47, 24, 56, 27, 35, 54, 21, 72, 62, 79, 76, 36, 29, 22, 12, 19, 29, 79, 72, 16, 24, 38, 19, 42, 73, 2, 10, 11, 47, 43, 4, 48, 44, 76, 58, 10, 3, 18, 14, 25, 53, 72, 36, 36, 2, 43, 30, 42, 17, 54], [1, 29, 26, 13, 1, 76, 76, 8, 52, 71, 35, 82, 72, 69, 80, 5, 61, 66, 54, 26, 18, 55, 10, 10, 31, 68, 68, 84, 78, 74, 75, 34, 72, 72, 67, 61, 26, 76, 77, 70, 77, 56, 57, 23, 31, 18, 55, 77, 63, 15, 32, 16, 1, 16, 57, 32, 67, 31, 13, 35, 48, 30, 25, 28, 1, 40, 34, 22, 82, 50, 37, 25, 69, 21, 79, 39, 36, 21, 37, 68, 30, 64, 75, 10, 18], [2, 74, 89, 68, 84, 83, 44, 63, 8, 54, 3, 83, 23, 10, 25, 73, 64, 39, 69, 36, 69, 29, 30, 70, 75, 46, 39, 80, 87, 41, 50, 67, 53, 12, 63, 60, 46, 26, 44, 54, 64, 55, 21, 68, 70, 28, 54, 56, 60, 65, 10, 7, 52, 78, 13, 47, 4, 1, 35, 67, 44, 42, 54, 34, 75, 44, 80, 89, 12, 63, 42, 75, 17, 67, 82, 56, 73, 12, 19, 60, 70, 53, 67, 90, 49, 66, 43, 88, 16, 1], [12, 35, 44, 62, 6, 5, 7, 70, 35, 51, 66, 3, 82, 13, 28, 85, 31, 43, 47, 94, 83, 10, 43, 45, 16, 95, 38, 35, 75, 95, 27, 78, 33, 54, 1, 71, 78, 22, 77, 23, 91, 40, 94, 63, 31, 62, 38, 64, 47, 87, 16, 74, 40, 2, 49, 22, 52, 8, 60, 74, 26, 70, 81, 75, 66, 75, 68, 1, 64, 57, 53, 89, 28, 93, 86, 7, 10, 16, 59, 38, 39, 17, 23, 41, 74, 44, 45, 75, 83, 9, 22, 44, 48, 51, 27], [70, 47, 87, 30, 53, 86, 37, 51, 89, 20, 38, 71, 80, 98, 94, 52, 100, 72, 45, 51, 57, 42, 97, 57, 0, 54, 31, 55, 50, 17, 25, 29, 69, 90, 70, 62, 79, 80, 74, 100, 94, 52, 44, 30, 28, 74, 82, 94, 41, 33, 86, 39, 90, 98, 97, 57, 32, 20, 63, 52, 81, 57, 71, 83, 94, 8, 98, 72, 23, 45, 40, 20, 67, 11, 21, 21, 47, 40, 37, 10, 46, 49, 52, 87, 94, 25, 52, 40, 36, 69, 6, 6, 71, 72, 75, 42, 2, 98, 67, 26], [12, 34, 102, 57, 1, 28, 96, 77, 43, 64, 93, 40, 80, 80, 52, 102, 17, 49, 3, 56, 2, 79, 1, 96, 64, 68, 29, 36, 12, 47, 64, 92, 101, 83, 34, 65, 59, 21, 94, 57, 72, 42, 85, 1, 69, 84, 60, 32, 59, 27, 12, 42, 76, 6, 57, 90, 92, 0, 82, 97, 48, 10, 98, 24, 52, 85, 91, 79, 101, 78, 71, 27, 78, 34, 54, 26, 35, 87, 99, 37, 87, 22, 48, 13, 91, 27, 7, 16, 5, 26, 62, 101, 70, 60, 68, 42, 31, 89, 12, 105, 46, 11, 9, 82, 7]]\n",
      "the sorted list is :  [[2, 3, 3, 4, 4], [1, 5, 5, 5, 5, 6, 7, 9, 9, 10], [0, 2, 3, 3, 3, 4, 5, 6, 6, 6, 7, 8, 8, 14, 15], [0, 0, 3, 3, 4, 5, 6, 6, 7, 9, 10, 10, 11, 12, 15, 15, 17, 18, 19, 20], [0, 2, 3, 3, 4, 6, 8, 8, 10, 12, 13, 13, 13, 13, 14, 15, 17, 17, 18, 18, 18, 20, 23, 23, 25], [1, 2, 5, 7, 9, 11, 11, 12, 12, 12, 13, 14, 16, 17, 17, 18, 18, 18, 21, 22, 22, 23, 24, 25, 27, 27, 28, 29, 29, 30], [1, 1, 2, 3, 5, 6, 7, 10, 10, 11, 11, 11, 13, 13, 14, 15, 17, 17, 17, 19, 20, 21, 22, 22, 23, 24, 25, 26, 27, 27, 30, 33, 33, 34, 35], [1, 2, 2, 2, 3, 4, 7, 8, 8, 9, 10, 13, 14, 14, 15, 15, 16, 18, 18, 19, 21, 24, 25, 25, 26, 27, 27, 29, 29, 29, 30, 31, 32, 34, 34, 34, 35, 35, 36, 37], [0, 1, 2, 2, 2, 4, 6, 6, 7, 9, 10, 11, 12, 16, 16, 17, 18, 19, 19, 21, 21, 22, 24, 25, 25, 26, 27, 27, 30, 30, 30, 31, 32, 33, 34, 35, 37, 38, 38, 38, 41, 41, 43, 43, 45], [1, 2, 4, 4, 5, 5, 7, 7, 8, 9, 9, 10, 11, 11, 12, 15, 15, 15, 16, 16, 16, 16, 20, 20, 20, 21, 23, 23, 24, 25, 27, 27, 30, 32, 33, 34, 36, 37, 37, 39, 39, 40, 43, 44, 44, 46, 47, 47, 49, 50], [0, 2, 4, 5, 8, 8, 9, 9, 9, 10, 10, 10, 11, 12, 12, 12, 14, 14, 16, 18, 20, 20, 22, 25, 27, 27, 27, 28, 28, 29, 29, 30, 33, 33, 34, 35, 35, 36, 37, 40, 41, 42, 43, 44, 44, 46, 47, 48, 48, 50, 50, 50, 53, 55, 55], [0, 0, 0, 1, 2, 3, 4, 4, 4, 4, 5, 6, 6, 6, 7, 7, 12, 13, 13, 16, 17, 20, 20, 21, 23, 23, 24, 24, 25, 27, 27, 28, 29, 30, 32, 33, 34, 36, 37, 41, 42, 44, 45, 46, 48, 48, 49, 49, 50, 50, 51, 52, 53, 54, 56, 57, 57, 57, 59, 60], [0, 0, 1, 3, 4, 5, 5, 6, 6, 8, 8, 11, 14, 16, 16, 17, 19, 20, 21, 21, 21, 21, 21, 22, 25, 26, 27, 28, 28, 30, 31, 35, 35, 37, 39, 40, 40, 40, 42, 44, 46, 46, 46, 46, 47, 51, 51, 52, 52, 52, 52, 53, 53, 53, 55, 55, 55, 56, 58, 59, 59, 63, 64, 64, 65], [1, 1, 1, 3, 4, 4, 6, 6, 6, 8, 12, 14, 14, 16, 16, 16, 17, 17, 18, 18, 20, 20, 21, 21, 23, 24, 25, 29, 29, 30, 30, 31, 32, 33, 34, 35, 37, 37, 38, 38, 39, 39, 39, 40, 40, 41, 43, 43, 44, 47, 48, 49, 50, 51, 51, 53, 54, 54, 54, 55, 56, 58, 61, 63, 63, 65, 66, 67, 69, 69], [1, 1, 1, 2, 3, 6, 6, 7, 9, 10, 11, 12, 14, 14, 14, 14, 15, 16, 17, 18, 18, 18, 19, 20, 20, 20, 21, 23, 24, 24, 26, 26, 27, 27, 28, 28, 30, 31, 32, 33, 37, 37, 37, 38, 38, 39, 39, 40, 40, 41, 41, 42, 44, 45, 46, 48, 48, 49, 49, 56, 58, 58, 60, 62, 63, 67, 68, 68, 70, 70, 72, 72, 73, 73, 74], [0, 0, 1, 1, 1, 1, 1, 3, 3, 4, 5, 6, 8, 9, 10, 11, 13, 13, 14, 14, 15, 16, 17, 18, 20, 21, 21, 21, 23, 27, 32, 33, 33, 33, 34, 36, 37, 38, 38, 39, 39, 39, 40, 40, 41, 41, 42, 42, 42, 42, 43, 43, 44, 44, 45, 48, 49, 50, 50, 54, 55, 58, 59, 60, 60, 60, 63, 64, 66, 67, 72, 72, 75, 75, 76, 77, 78, 78, 79, 80], [1, 1, 2, 3, 3, 3, 8, 12, 13, 14, 15, 15, 16, 17, 18, 20, 22, 25, 25, 29, 29, 31, 32, 32, 34, 34, 35, 35, 36, 40, 40, 40, 41, 41, 44, 44, 45, 45, 45, 47, 47, 48, 49, 49, 50, 51, 51, 54, 55, 58, 58, 58, 58, 59, 61, 62, 62, 64, 65, 65, 65, 66, 68, 69, 69, 71, 72, 73, 74, 74, 75, 75, 77, 77, 80, 80, 81, 82, 82, 83, 83, 84, 84, 85, 85], [0, 1, 1, 2, 2, 2, 7, 7, 9, 9, 9, 10, 13, 13, 14, 15, 15, 16, 16, 17, 19, 19, 21, 22, 23, 25, 25, 27, 27, 27, 28, 28, 28, 29, 30, 30, 30, 30, 30, 31, 32, 32, 36, 37, 38, 38, 39, 40, 41, 44, 44, 46, 47, 49, 49, 51, 51, 52, 54, 54, 55, 60, 63, 66, 68, 69, 70, 70, 71, 74, 74, 75, 78, 79, 79, 80, 81, 81, 82, 82, 82, 83, 84, 84, 85, 85, 86, 87, 88, 90], [0, 1, 2, 2, 3, 5, 5, 5, 7, 7, 8, 8, 9, 9, 10, 10, 10, 16, 18, 18, 18, 19, 19, 19, 19, 24, 24, 25, 25, 26, 29, 31, 31, 31, 31, 31, 32, 33, 34, 34, 37, 37, 39, 41, 41, 43, 43, 46, 47, 50, 50, 51, 51, 52, 53, 55, 55, 60, 62, 62, 63, 64, 64, 65, 67, 67, 68, 68, 69, 71, 71, 74, 75, 75, 76, 76, 76, 77, 82, 82, 82, 83, 85, 88, 88, 88, 88, 90, 91, 91, 91, 92, 92, 94, 95], [0, 1, 1, 1, 1, 6, 8, 8, 11, 12, 13, 14, 15, 15, 15, 16, 16, 17, 18, 19, 21, 21, 22, 22, 23, 24, 26, 26, 26, 27, 31, 31, 32, 32, 34, 37, 38, 39, 40, 42, 43, 43, 44, 44, 45, 46, 49, 50, 51, 53, 54, 55, 55, 56, 57, 58, 58, 60, 61, 62, 63, 63, 64, 66, 66, 67, 68, 71, 71, 71, 72, 73, 73, 74, 74, 77, 77, 78, 81, 81, 82, 83, 83, 83, 84, 85, 88, 88, 89, 89, 91, 92, 92, 93, 97, 97, 98, 99, 100, 100], [0, 2, 2, 2, 2, 3, 3, 3, 3, 5, 6, 6, 7, 9, 10, 11, 12, 12, 14, 16, 19, 21, 22, 22, 24, 25, 26, 29, 30, 32, 34, 35, 35, 37, 38, 39, 39, 40, 40, 41, 44, 44, 44, 46, 50, 50, 51, 51, 51, 51, 51, 52, 53, 53, 55, 55, 55, 56, 57, 57, 57, 58, 58, 58, 61, 64, 64, 67, 67, 69, 69, 69, 69, 70, 72, 73, 73, 75, 76, 76, 76, 76, 79, 80, 81, 83, 85, 88, 88, 89, 89, 91, 93, 95, 96, 96, 97, 99, 100, 100, 100, 102, 102, 103, 104]]\n",
      "[5.0067901611328125e-06]\n",
      "<class 'list'>\n",
      "[5.0067901611328125e-06, 1.1920928955078125e-05]\n",
      "<class 'list'>\n",
      "[5.0067901611328125e-06, 1.1920928955078125e-05, 1.7881393432617188e-05]\n",
      "<class 'list'>\n",
      "[5.0067901611328125e-06, 1.1920928955078125e-05, 1.7881393432617188e-05, 3.695487976074219e-05]\n",
      "<class 'list'>\n",
      "[5.0067901611328125e-06, 1.1920928955078125e-05, 1.7881393432617188e-05, 3.695487976074219e-05, 2.4080276489257812e-05]\n",
      "<class 'list'>\n",
      "[5.0067901611328125e-06, 1.1920928955078125e-05, 1.7881393432617188e-05, 3.695487976074219e-05, 2.4080276489257812e-05, 2.9802322387695312e-05]\n",
      "<class 'list'>\n",
      "[5.0067901611328125e-06, 1.1920928955078125e-05, 1.7881393432617188e-05, 3.695487976074219e-05, 2.4080276489257812e-05, 2.9802322387695312e-05, 3.5762786865234375e-05]\n",
      "<class 'list'>\n",
      "[5.0067901611328125e-06, 1.1920928955078125e-05, 1.7881393432617188e-05, 3.695487976074219e-05, 2.4080276489257812e-05, 2.9802322387695312e-05, 3.5762786865234375e-05, 3.886222839355469e-05]\n",
      "<class 'list'>\n",
      "[5.0067901611328125e-06, 1.1920928955078125e-05, 1.7881393432617188e-05, 3.695487976074219e-05, 2.4080276489257812e-05, 2.9802322387695312e-05, 3.5762786865234375e-05, 3.886222839355469e-05, 4.410743713378906e-05]\n",
      "<class 'list'>\n",
      "[5.0067901611328125e-06, 1.1920928955078125e-05, 1.7881393432617188e-05, 3.695487976074219e-05, 2.4080276489257812e-05, 2.9802322387695312e-05, 3.5762786865234375e-05, 3.886222839355469e-05, 4.410743713378906e-05, 5.078315734863281e-05]\n",
      "<class 'list'>\n",
      "[5.0067901611328125e-06, 1.1920928955078125e-05, 1.7881393432617188e-05, 3.695487976074219e-05, 2.4080276489257812e-05, 2.9802322387695312e-05, 3.5762786865234375e-05, 3.886222839355469e-05, 4.410743713378906e-05, 5.078315734863281e-05, 5.793571472167969e-05]\n",
      "<class 'list'>\n",
      "[5.0067901611328125e-06, 1.1920928955078125e-05, 1.7881393432617188e-05, 3.695487976074219e-05, 2.4080276489257812e-05, 2.9802322387695312e-05, 3.5762786865234375e-05, 3.886222839355469e-05, 4.410743713378906e-05, 5.078315734863281e-05, 5.793571472167969e-05, 6.103515625e-05]\n",
      "<class 'list'>\n",
      "[5.0067901611328125e-06, 1.1920928955078125e-05, 1.7881393432617188e-05, 3.695487976074219e-05, 2.4080276489257812e-05, 2.9802322387695312e-05, 3.5762786865234375e-05, 3.886222839355469e-05, 4.410743713378906e-05, 5.078315734863281e-05, 5.793571472167969e-05, 6.103515625e-05, 8.487701416015625e-05]\n",
      "<class 'list'>\n",
      "[5.0067901611328125e-06, 1.1920928955078125e-05, 1.7881393432617188e-05, 3.695487976074219e-05, 2.4080276489257812e-05, 2.9802322387695312e-05, 3.5762786865234375e-05, 3.886222839355469e-05, 4.410743713378906e-05, 5.078315734863281e-05, 5.793571472167969e-05, 6.103515625e-05, 8.487701416015625e-05, 6.985664367675781e-05]\n",
      "<class 'list'>\n",
      "[5.0067901611328125e-06, 1.1920928955078125e-05, 1.7881393432617188e-05, 3.695487976074219e-05, 2.4080276489257812e-05, 2.9802322387695312e-05, 3.5762786865234375e-05, 3.886222839355469e-05, 4.410743713378906e-05, 5.078315734863281e-05, 5.793571472167969e-05, 6.103515625e-05, 8.487701416015625e-05, 6.985664367675781e-05, 8.296966552734375e-05]\n",
      "<class 'list'>\n",
      "[5.0067901611328125e-06, 1.1920928955078125e-05, 1.7881393432617188e-05, 3.695487976074219e-05, 2.4080276489257812e-05, 2.9802322387695312e-05, 3.5762786865234375e-05, 3.886222839355469e-05, 4.410743713378906e-05, 5.078315734863281e-05, 5.793571472167969e-05, 6.103515625e-05, 8.487701416015625e-05, 6.985664367675781e-05, 8.296966552734375e-05, 8.606910705566406e-05]\n",
      "<class 'list'>\n",
      "[5.0067901611328125e-06, 1.1920928955078125e-05, 1.7881393432617188e-05, 3.695487976074219e-05, 2.4080276489257812e-05, 2.9802322387695312e-05, 3.5762786865234375e-05, 3.886222839355469e-05, 4.410743713378906e-05, 5.078315734863281e-05, 5.793571472167969e-05, 6.103515625e-05, 8.487701416015625e-05, 6.985664367675781e-05, 8.296966552734375e-05, 8.606910705566406e-05, 0.00010371208190917969]\n",
      "<class 'list'>\n",
      "[5.0067901611328125e-06, 1.1920928955078125e-05, 1.7881393432617188e-05, 3.695487976074219e-05, 2.4080276489257812e-05, 2.9802322387695312e-05, 3.5762786865234375e-05, 3.886222839355469e-05, 4.410743713378906e-05, 5.078315734863281e-05, 5.793571472167969e-05, 6.103515625e-05, 8.487701416015625e-05, 6.985664367675781e-05, 8.296966552734375e-05, 8.606910705566406e-05, 0.00010371208190917969, 0.00011801719665527344]\n",
      "<class 'list'>\n",
      "[5.0067901611328125e-06, 1.1920928955078125e-05, 1.7881393432617188e-05, 3.695487976074219e-05, 2.4080276489257812e-05, 2.9802322387695312e-05, 3.5762786865234375e-05, 3.886222839355469e-05, 4.410743713378906e-05, 5.078315734863281e-05, 5.793571472167969e-05, 6.103515625e-05, 8.487701416015625e-05, 6.985664367675781e-05, 8.296966552734375e-05, 8.606910705566406e-05, 0.00010371208190917969, 0.00011801719665527344, 0.00011086463928222656]\n",
      "<class 'list'>\n",
      "[5.0067901611328125e-06, 1.1920928955078125e-05, 1.7881393432617188e-05, 3.695487976074219e-05, 2.4080276489257812e-05, 2.9802322387695312e-05, 3.5762786865234375e-05, 3.886222839355469e-05, 4.410743713378906e-05, 5.078315734863281e-05, 5.793571472167969e-05, 6.103515625e-05, 8.487701416015625e-05, 6.985664367675781e-05, 8.296966552734375e-05, 8.606910705566406e-05, 0.00010371208190917969, 0.00011801719665527344, 0.00011086463928222656, 0.00011610984802246094]\n",
      "<class 'list'>\n",
      "[5.0067901611328125e-06, 1.1920928955078125e-05, 1.7881393432617188e-05, 3.695487976074219e-05, 2.4080276489257812e-05, 2.9802322387695312e-05, 3.5762786865234375e-05, 3.886222839355469e-05, 4.410743713378906e-05, 5.078315734863281e-05, 5.793571472167969e-05, 6.103515625e-05, 8.487701416015625e-05, 6.985664367675781e-05, 8.296966552734375e-05, 8.606910705566406e-05, 0.00010371208190917969, 0.00011801719665527344, 0.00011086463928222656, 0.00011610984802246094, 0.00011706352233886719]\n",
      "<class 'list'>\n",
      "creating a quick_sort file which sorted the descending order number: \n",
      "\n",
      "creating a quick_sort file which sorted the ascending order number: \n",
      "\n",
      "creating a quick_sort file which sorted the random number: \n",
      "\n"
     ]
    }
   ],
   "source": [
    "if __name__ == '__main__':\n",
    "    quick_des_lists = getFile('descending_file.txt')\n",
    "    quick_asc_lists = getFile('ascending_file.txt')\n",
    "    quick_random_lists = getFile('rand_file.txt')\n",
    "    \n",
    "    print(quick_des_lists)\n",
    "    print(\"\\n\")\n",
    "    print(quick_asc_lists)\n",
    "    print(\"\\n\")\n",
    "    print(quick_random_lists)\n",
    "    \n",
    "    total_asc_quick_time = []\n",
    "    total_des_quick_time = []\n",
    "    total_ran_quick_time = []\n",
    "    \n",
    "    sorted_des_quick_list = []\n",
    "    sorted_asc_quick_list = []\n",
    "    sorted_ran_quick_list = []\n",
    "    \n",
    "    for genearted_list in quick_des_lists:\n",
    "        \n",
    "        quick_desc_start_time = time.time()\n",
    "        sorted_des_quick_list.append(quicksort(genearted_list,0,len(genearted_list)-1))\n",
    "        quick_desc_end_time = time.time()\n",
    "        \n",
    "        quick_des_run_time = quick_desc_end_time-quick_desc_start_time\n",
    "        \n",
    "        total_des_quick_time.append(quick_des_run_time)\n",
    "    print(\"the sorted list is : \",sorted_des_quick_list)\n",
    "                                     \n",
    "    for genearted_list in quick_asc_lists:\n",
    "        \n",
    "        quick_asc_start_time = time.time()\n",
    "        sorted_asc_quick_list.append(quicksort(genearted_list,0,len(genearted_list)-1))\n",
    "        quick_asc_end_time = time.time()\n",
    "        \n",
    "        quick_asc_run_time = quick_asc_end_time-quick_asc_start_time\n",
    "        \n",
    "        total_asc_quick_time.append(quick_asc_run_time)\n",
    "                                     \n",
    "    for genearted_list in quick_random_lists:\n",
    "        \n",
    "        quick_ran_start_time = time.time()\n",
    "        sorted_ran_quick_list.append(quicksort(genearted_list,0,len(genearted_list)-1))\n",
    "        quick_ran_end_time = time.time()\n",
    "        \n",
    "        quick_ran_run_time = quick_ran_end_time-quick_ran_start_time\n",
    "        \n",
    "        total_ran_quick_time.append(quick_ran_run_time)\n",
    "        \n",
    "        print(total_ran_quick_time)\n",
    "        print(type(total_ran_quick_time))\n",
    "                                     \n",
    "    print(\"creating a quick_sort file which sorted the descending order number: \\n\")    \n",
    "    saveFile('quick_descending_file.txt',sorted_des_quick_list)\n",
    "    print(\"creating a quick_sort file which sorted the ascending order number: \\n\") \n",
    "    saveFile('quick_ascending_file.txt',sorted_asc_quick_list)\n",
    "    print(\"creating a quick_sort file which sorted the random number: \\n\") \n",
    "    saveFile('quick_random_file.txt',sorted_ran_quick_list)\n",
    "    \n",
    "\n",
    "\n",
    "\n"
   ]
  },
  {
   "cell_type": "code",
   "execution_count": 19,
   "metadata": {},
   "outputs": [],
   "source": [
    "%matplotlib inline\n",
    "import matplotlib.pyplot as plt\n",
    "plt.style.use('seaborn-whitegrid')"
   ]
  },
  {
   "cell_type": "code",
   "execution_count": 20,
   "metadata": {},
   "outputs": [
    {
     "data": {
      "image/png": "[encoded data removed]",
      "text/plain": [
       "<Figure size 432x288 with 1 Axes>"
      ]
     },
     "metadata": {},
     "output_type": "display_data"
    },
    {
     "data": {
      "text/plain": [
       "<Figure size 432x288 with 0 Axes>"
      ]
     },
     "metadata": {},
     "output_type": "display_data"
    }
   ],
   "source": [
    "plt.xlabel('Input Size')\n",
    "plt.ylabel('Run time in sec')\n",
    "fig = plt.gcf()\n",
    "plt.plot(length_array,total_asc_quick_time);\n",
    "plt.plot(length_array,total_des_quick_time)\n",
    "plt.plot(length_array,total_ran_quick_time)\n",
    "plt.legend(['ascending order','descending order','random number'], loc='upper left')\n",
    "plt.show()\n",
    "plt.draw()\n",
    "fig.savefig('QUICK_GRAPH.png',dpi = 200)"
   ]
  },
  {
   "cell_type": "code",
   "execution_count": null,
   "metadata": {},
   "outputs": [],
   "source": []
  }
 ],
 "metadata": {
  "kernelspec": {
   "display_name": "Python 3",
   "language": "python",
   "name": "python3"
  },
  "language_info": {
   "codemirror_mode": {
    "name": "ipython",
    "version": 3
   },
   "file_extension": ".py",
   "mimetype": "text/x-python",
   "name": "python",
   "nbconvert_exporter": "python",
   "pygments_lexer": "ipython3",
   "version": "3.7.4"
  }
 },
 "nbformat": 4,
 "nbformat_minor": 2
}
