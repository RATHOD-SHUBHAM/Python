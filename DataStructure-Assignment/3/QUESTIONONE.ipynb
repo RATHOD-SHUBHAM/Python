{
 "cells": [
  {
   "cell_type": "code",
   "execution_count": null,
   "metadata": {},
   "outputs": [],
   "source": [
    "def CountLines(LineList):\n",
    "    countLine = 0\n",
    "    for eachline in LineList:\n",
    "        # take each line and remove the \\n that gets appended\n",
    "        eachline = eachline.strip()\n",
    "        # ignore a space in  btn lines\n",
    "        if eachline:\n",
    "            countLine += 1\n",
    "    return countLine"
   ]
  },
  {
   "cell_type": "code",
   "execution_count": null,
   "metadata": {},
   "outputs": [],
   "source": [
    "def CountWords(LineList):\n",
    "    countWord = 0\n",
    "    for eachline in LineList:\n",
    "        eachline = eachline.strip()\n",
    "        # ignore a space in  btn lines\n",
    "        if eachline:\n",
    "            #break each line into a list of words\n",
    "            words = eachline.split()\n",
    "            # count the number of elements in that list\n",
    "            countWord += len(words)\n",
    "    return countWord"
   ]
  },
  {
   "cell_type": "code",
   "execution_count": null,
   "metadata": {},
   "outputs": [],
   "source": [
    "def CountChar(LineList):\n",
    "    countChar = 0\n",
    "    for eachline in LineList:\n",
    "        # eachline = re.sub(r'[^\\w\\s]','',eachline)\n",
    "        eachline = eachline.strip()\n",
    "        # ignore a space in  btn lines\n",
    "        if eachline:\n",
    "            # print(len(eachline))\n",
    "            # LengthOfEachLine = len(eachline)\n",
    "            # print(eachline)\n",
    "            # countChar += LengthOfEachLine\n",
    "            # go through every character in that line\n",
    "            for everyChar in eachline:\n",
    "                # print(eachline)\n",
    "                # remove the white spaces\n",
    "                everyChar=everyChar.strip()\n",
    "                # print(everyChar)\n",
    "                countChar += len(everyChar)\n",
    "                # print(\"The Number of line in the file is : \", countChar)\n",
    "                # print(\"\\n\")\n",
    "    return countChar"
   ]
  },
  {
   "cell_type": "code",
   "execution_count": null,
   "metadata": {},
   "outputs": [],
   "source": [
    "import re\n",
    "def CountCharNoSpecial(LineList):\n",
    "    countChar = 0\n",
    "    for eachline in LineList:\n",
    "        eachline = re.sub(r'[^\\w\\s]','',eachline)\n",
    "        eachline = eachline.strip()\n",
    "        # ignore a space in  btn lines\n",
    "        if eachline:\n",
    "            # print(len(eachline))\n",
    "            # LengthOfEachLine = len(eachline)\n",
    "            # print(eachline)\n",
    "            # countChar += LengthOfEachLine\n",
    "            # go through every character in that line\n",
    "            for everyChar in eachline:\n",
    "                # print(eachline)\n",
    "                # remove the white spaces\n",
    "                everyChar=everyChar.strip()\n",
    "                # print(everyChar)\n",
    "                countChar += len(everyChar)\n",
    "                # print(\"The Number of line in the file is : \", countChar)\n",
    "                # print(\"\\n\")\n",
    "    return countChar"
   ]
  },
  {
   "cell_type": "code",
   "execution_count": null,
   "metadata": {},
   "outputs": [],
   "source": [
    "def main():\n",
    "    while True:\n",
    "        try:\n",
    "            # ask user to enter a file name\n",
    "            FileName = input(\"What is the filename: \")\n",
    "\n",
    "            # open a file >> read the content >> close the file\n",
    "            FileHandle = open(FileName,\"r\")\n",
    "            LineList = FileHandle.readlines()\n",
    "            FileHandle.close()\n",
    "\n",
    "            #todo:  Count the number of line\n",
    "\n",
    "            number_of_lines = CountLines(LineList)   \n",
    "            print(\"\\n\")\n",
    "            print(\"The Number of lines : \",number_of_lines)\n",
    "\n",
    "            #todo: Count the number of words\n",
    "\n",
    "            number_of_words = CountWords(LineList)\n",
    "            print(\"\\n\")\n",
    "            print(\"The Number of words : \",number_of_words)\n",
    "\n",
    "\n",
    "\n",
    "            # todo: number of characters but not spaces\n",
    "            number_of_characters = CountChar(LineList)\n",
    "            print(\"\\n\")\n",
    "            print(\"The Number of characters : \",number_of_characters)\n",
    "\n",
    "            # todo: number of characters  with no special characters\n",
    "            number_of_characters_no_special = CountCharNoSpecial(LineList)\n",
    "            print(\"\\n\")\n",
    "            print(\"The Number of characters without special character : \",number_of_characters_no_special)\n",
    "\n",
    "            # Average length of a word\n",
    "            average_length_of_word = number_of_characters / number_of_words\n",
    "            print(\"\\n\")\n",
    "            print(\"The Average length of a word\",average_length_of_word)\n",
    "            \n",
    "            break\n",
    "\n",
    "        except:\n",
    "            print('Invalid File Name !! Check the File Name and enter again')\n",
    "        "
   ]
  },
  {
   "cell_type": "code",
   "execution_count": null,
   "metadata": {},
   "outputs": [],
   "source": [
    "# Function Execution Begin Here\n",
    "if __name__ == \"__main__\":\n",
    "    main()"
   ]
  },
  {
   "cell_type": "code",
   "execution_count": null,
   "metadata": {},
   "outputs": [],
   "source": []
  }
 ],
 "metadata": {
  "kernelspec": {
   "display_name": "Python 3",
   "language": "python",
   "name": "python3"
  },
  "language_info": {
   "codemirror_mode": {
    "name": "ipython",
    "version": 3
   },
   "file_extension": ".py",
   "mimetype": "text/x-python",
   "name": "python",
   "nbconvert_exporter": "python",
   "pygments_lexer": "ipython3",
   "version": "3.8.5"
  }
 },
 "nbformat": 4,
 "nbformat_minor": 4
}
