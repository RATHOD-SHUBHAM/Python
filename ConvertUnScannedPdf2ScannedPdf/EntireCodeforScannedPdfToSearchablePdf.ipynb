{
  "nbformat": 4,
  "nbformat_minor": 0,
  "metadata": {
    "colab": {
      "name": "EntireCodeforScannedPdfToSearchablePdf.ipynb",
      "provenance": [],
      "collapsed_sections": []
    },
    "kernelspec": {
      "name": "python3",
      "display_name": "Python 3"
    },
    "language_info": {
      "name": "python"
    }
  },
  "cells": [
    {
      "cell_type": "markdown",
      "metadata": {
        "id": "GxmzNNgOzdTM"
      },
      "source": [
        "**Installing the required dependency**"
      ]
    },
    {
      "cell_type": "code",
      "metadata": {
        "colab": {
          "base_uri": "https://localhost:8080/"
        },
        "id": "O5WBQQ_XycCN",
        "outputId": "0ab5e8c6-715e-4089-8e7f-49997db666e3"
      },
      "source": [
        "! apt install tesseract-ocr\n",
        "! apt install libtesseract-dev"
      ],
      "execution_count": null,
      "outputs": [
        {
          "output_type": "stream",
          "name": "stdout",
          "text": [
            "Reading package lists... Done\n",
            "Building dependency tree       \n",
            "Reading state information... Done\n",
            "The following additional packages will be installed:\n",
            "  tesseract-ocr-eng tesseract-ocr-osd\n",
            "The following NEW packages will be installed:\n",
            "  tesseract-ocr tesseract-ocr-eng tesseract-ocr-osd\n",
            "0 upgraded, 3 newly installed, 0 to remove and 40 not upgraded.\n",
            "Need to get 4,795 kB of archives.\n",
            "After this operation, 15.8 MB of additional disk space will be used.\n",
            "Get:1 http://archive.ubuntu.com/ubuntu bionic/universe amd64 tesseract-ocr-eng all 4.00~git24-0e00fe6-1.2 [1,588 kB]\n",
            "Get:2 http://archive.ubuntu.com/ubuntu bionic/universe amd64 tesseract-ocr-osd all 4.00~git24-0e00fe6-1.2 [2,989 kB]\n",
            "Get:3 http://archive.ubuntu.com/ubuntu bionic/universe amd64 tesseract-ocr amd64 4.00~git2288-10f4998a-2 [218 kB]\n",
            "Fetched 4,795 kB in 1s (4,220 kB/s)\n",
            "Selecting previously unselected package tesseract-ocr-eng.\n",
            "(Reading database ... 148492 files and directories currently installed.)\n",
            "Preparing to unpack .../tesseract-ocr-eng_4.00~git24-0e00fe6-1.2_all.deb ...\n",
            "Unpacking tesseract-ocr-eng (4.00~git24-0e00fe6-1.2) ...\n",
            "Selecting previously unselected package tesseract-ocr-osd.\n",
            "Preparing to unpack .../tesseract-ocr-osd_4.00~git24-0e00fe6-1.2_all.deb ...\n",
            "Unpacking tesseract-ocr-osd (4.00~git24-0e00fe6-1.2) ...\n",
            "Selecting previously unselected package tesseract-ocr.\n",
            "Preparing to unpack .../tesseract-ocr_4.00~git2288-10f4998a-2_amd64.deb ...\n",
            "Unpacking tesseract-ocr (4.00~git2288-10f4998a-2) ...\n",
            "Setting up tesseract-ocr-osd (4.00~git24-0e00fe6-1.2) ...\n",
            "Setting up tesseract-ocr-eng (4.00~git24-0e00fe6-1.2) ...\n",
            "Setting up tesseract-ocr (4.00~git2288-10f4998a-2) ...\n",
            "Processing triggers for man-db (2.8.3-2ubuntu0.1) ...\n",
            "Reading package lists... Done\n",
            "Building dependency tree       \n",
            "Reading state information... Done\n",
            "The following additional packages will be installed:\n",
            "  libleptonica-dev\n",
            "The following NEW packages will be installed:\n",
            "  libleptonica-dev libtesseract-dev\n",
            "0 upgraded, 2 newly installed, 0 to remove and 40 not upgraded.\n",
            "Need to get 2,755 kB of archives.\n",
            "After this operation, 13.8 MB of additional disk space will be used.\n",
            "Get:1 http://archive.ubuntu.com/ubuntu bionic/universe amd64 libleptonica-dev amd64 1.75.3-3 [1,308 kB]\n",
            "Get:2 http://archive.ubuntu.com/ubuntu bionic/universe amd64 libtesseract-dev amd64 4.00~git2288-10f4998a-2 [1,447 kB]\n",
            "Fetched 2,755 kB in 1s (2,685 kB/s)\n",
            "Selecting previously unselected package libleptonica-dev.\n",
            "(Reading database ... 148539 files and directories currently installed.)\n",
            "Preparing to unpack .../libleptonica-dev_1.75.3-3_amd64.deb ...\n",
            "Unpacking libleptonica-dev (1.75.3-3) ...\n",
            "Selecting previously unselected package libtesseract-dev.\n",
            "Preparing to unpack .../libtesseract-dev_4.00~git2288-10f4998a-2_amd64.deb ...\n",
            "Unpacking libtesseract-dev (4.00~git2288-10f4998a-2) ...\n",
            "Setting up libleptonica-dev (1.75.3-3) ...\n",
            "Setting up libtesseract-dev (4.00~git2288-10f4998a-2) ...\n"
          ]
        }
      ]
    },
    {
      "cell_type": "code",
      "metadata": {
        "colab": {
          "base_uri": "https://localhost:8080/"
        },
        "id": "UrygXMWvyeQ8",
        "outputId": "4b892576-15ce-455d-9cbe-afd513afe821"
      },
      "source": [
        "!pip install pytesseract"
      ],
      "execution_count": null,
      "outputs": [
        {
          "output_type": "stream",
          "name": "stdout",
          "text": [
            "Collecting pytesseract\n",
            "  Downloading pytesseract-0.3.8.tar.gz (14 kB)\n",
            "Requirement already satisfied: Pillow in /usr/local/lib/python3.7/dist-packages (from pytesseract) (7.1.2)\n",
            "Building wheels for collected packages: pytesseract\n",
            "  Building wheel for pytesseract (setup.py) ... \u001b[?25l\u001b[?25hdone\n",
            "  Created wheel for pytesseract: filename=pytesseract-0.3.8-py2.py3-none-any.whl size=14072 sha256=64e2f2f9c68a3a52beb596f3028345c6ab7d56a898975cc58d3b61e11568559b\n",
            "  Stored in directory: /root/.cache/pip/wheels/a4/89/b9/3f11250225d0f90e5454fcc30fd1b7208db226850715aa9ace\n",
            "Successfully built pytesseract\n",
            "Installing collected packages: pytesseract\n",
            "Successfully installed pytesseract-0.3.8\n"
          ]
        }
      ]
    },
    {
      "cell_type": "code",
      "metadata": {
        "colab": {
          "base_uri": "https://localhost:8080/"
        },
        "id": "YiYy4pVKyhdS",
        "outputId": "35704bb2-1813-4d9a-e7c3-6eab72fdb608"
      },
      "source": [
        "!apt install ghostscript"
      ],
      "execution_count": null,
      "outputs": [
        {
          "output_type": "stream",
          "name": "stdout",
          "text": [
            "Reading package lists... Done\n",
            "Building dependency tree       \n",
            "Reading state information... Done\n",
            "The following additional packages will be installed:\n",
            "  fonts-droid-fallback fonts-noto-mono gsfonts libcupsfilters1 libcupsimage2\n",
            "  libgs9 libgs9-common libijs-0.35 libjbig2dec0 poppler-data\n",
            "Suggested packages:\n",
            "  fonts-noto ghostscript-x poppler-utils fonts-japanese-mincho\n",
            "  | fonts-ipafont-mincho fonts-japanese-gothic | fonts-ipafont-gothic\n",
            "  fonts-arphic-ukai fonts-arphic-uming fonts-nanum\n",
            "The following NEW packages will be installed:\n",
            "  fonts-droid-fallback fonts-noto-mono ghostscript gsfonts libcupsfilters1\n",
            "  libcupsimage2 libgs9 libgs9-common libijs-0.35 libjbig2dec0 poppler-data\n",
            "0 upgraded, 11 newly installed, 0 to remove and 40 not upgraded.\n",
            "Need to get 14.1 MB of archives.\n",
            "After this operation, 49.9 MB of additional disk space will be used.\n",
            "Get:1 http://archive.ubuntu.com/ubuntu bionic/main amd64 fonts-droid-fallback all 1:6.0.1r16-1.1 [1,805 kB]\n",
            "Get:2 http://archive.ubuntu.com/ubuntu bionic/main amd64 poppler-data all 0.4.8-2 [1,479 kB]\n",
            "Get:3 http://archive.ubuntu.com/ubuntu bionic/main amd64 fonts-noto-mono all 20171026-2 [75.5 kB]\n",
            "Get:4 http://archive.ubuntu.com/ubuntu bionic-updates/main amd64 libcupsimage2 amd64 2.2.7-1ubuntu2.8 [18.6 kB]\n",
            "Get:5 http://archive.ubuntu.com/ubuntu bionic/main amd64 libijs-0.35 amd64 0.35-13 [15.5 kB]\n",
            "Get:6 http://archive.ubuntu.com/ubuntu bionic/main amd64 libjbig2dec0 amd64 0.13-6 [55.9 kB]\n",
            "Get:7 http://archive.ubuntu.com/ubuntu bionic-updates/main amd64 libgs9-common all 9.26~dfsg+0-0ubuntu0.18.04.14 [5,092 kB]\n",
            "Get:8 http://archive.ubuntu.com/ubuntu bionic-updates/main amd64 libgs9 amd64 9.26~dfsg+0-0ubuntu0.18.04.14 [2,265 kB]\n",
            "Get:9 http://archive.ubuntu.com/ubuntu bionic-updates/main amd64 ghostscript amd64 9.26~dfsg+0-0ubuntu0.18.04.14 [51.3 kB]\n",
            "Get:10 http://archive.ubuntu.com/ubuntu bionic/main amd64 gsfonts all 1:8.11+urwcyr1.0.7~pre44-4.4 [3,120 kB]\n",
            "Get:11 http://archive.ubuntu.com/ubuntu bionic-updates/main amd64 libcupsfilters1 amd64 1.20.2-0ubuntu3.1 [108 kB]\n",
            "Fetched 14.1 MB in 1s (10.3 MB/s)\n",
            "Selecting previously unselected package fonts-droid-fallback.\n",
            "(Reading database ... 148650 files and directories currently installed.)\n",
            "Preparing to unpack .../00-fonts-droid-fallback_1%3a6.0.1r16-1.1_all.deb ...\n",
            "Unpacking fonts-droid-fallback (1:6.0.1r16-1.1) ...\n",
            "Selecting previously unselected package poppler-data.\n",
            "Preparing to unpack .../01-poppler-data_0.4.8-2_all.deb ...\n",
            "Unpacking poppler-data (0.4.8-2) ...\n",
            "Selecting previously unselected package fonts-noto-mono.\n",
            "Preparing to unpack .../02-fonts-noto-mono_20171026-2_all.deb ...\n",
            "Unpacking fonts-noto-mono (20171026-2) ...\n",
            "Selecting previously unselected package libcupsimage2:amd64.\n",
            "Preparing to unpack .../03-libcupsimage2_2.2.7-1ubuntu2.8_amd64.deb ...\n",
            "Unpacking libcupsimage2:amd64 (2.2.7-1ubuntu2.8) ...\n",
            "Selecting previously unselected package libijs-0.35:amd64.\n",
            "Preparing to unpack .../04-libijs-0.35_0.35-13_amd64.deb ...\n",
            "Unpacking libijs-0.35:amd64 (0.35-13) ...\n",
            "Selecting previously unselected package libjbig2dec0:amd64.\n",
            "Preparing to unpack .../05-libjbig2dec0_0.13-6_amd64.deb ...\n",
            "Unpacking libjbig2dec0:amd64 (0.13-6) ...\n",
            "Selecting previously unselected package libgs9-common.\n",
            "Preparing to unpack .../06-libgs9-common_9.26~dfsg+0-0ubuntu0.18.04.14_all.deb ...\n",
            "Unpacking libgs9-common (9.26~dfsg+0-0ubuntu0.18.04.14) ...\n",
            "Selecting previously unselected package libgs9:amd64.\n",
            "Preparing to unpack .../07-libgs9_9.26~dfsg+0-0ubuntu0.18.04.14_amd64.deb ...\n",
            "Unpacking libgs9:amd64 (9.26~dfsg+0-0ubuntu0.18.04.14) ...\n",
            "Selecting previously unselected package ghostscript.\n",
            "Preparing to unpack .../08-ghostscript_9.26~dfsg+0-0ubuntu0.18.04.14_amd64.deb ...\n",
            "Unpacking ghostscript (9.26~dfsg+0-0ubuntu0.18.04.14) ...\n",
            "Selecting previously unselected package gsfonts.\n",
            "Preparing to unpack .../09-gsfonts_1%3a8.11+urwcyr1.0.7~pre44-4.4_all.deb ...\n",
            "Unpacking gsfonts (1:8.11+urwcyr1.0.7~pre44-4.4) ...\n",
            "Selecting previously unselected package libcupsfilters1:amd64.\n",
            "Preparing to unpack .../10-libcupsfilters1_1.20.2-0ubuntu3.1_amd64.deb ...\n",
            "Unpacking libcupsfilters1:amd64 (1.20.2-0ubuntu3.1) ...\n",
            "Setting up libgs9-common (9.26~dfsg+0-0ubuntu0.18.04.14) ...\n",
            "Setting up fonts-droid-fallback (1:6.0.1r16-1.1) ...\n",
            "Setting up gsfonts (1:8.11+urwcyr1.0.7~pre44-4.4) ...\n",
            "Setting up poppler-data (0.4.8-2) ...\n",
            "Setting up fonts-noto-mono (20171026-2) ...\n",
            "Setting up libcupsfilters1:amd64 (1.20.2-0ubuntu3.1) ...\n",
            "Setting up libcupsimage2:amd64 (2.2.7-1ubuntu2.8) ...\n",
            "Setting up libjbig2dec0:amd64 (0.13-6) ...\n",
            "Setting up libijs-0.35:amd64 (0.35-13) ...\n",
            "Setting up libgs9:amd64 (9.26~dfsg+0-0ubuntu0.18.04.14) ...\n",
            "Setting up ghostscript (9.26~dfsg+0-0ubuntu0.18.04.14) ...\n",
            "Processing triggers for man-db (2.8.3-2ubuntu0.1) ...\n",
            "Processing triggers for fontconfig (2.12.6-0ubuntu2) ...\n",
            "Processing triggers for libc-bin (2.27-3ubuntu1.2) ...\n",
            "/sbin/ldconfig.real: /usr/local/lib/python3.7/dist-packages/ideep4py/lib/libmkldnn.so.0 is not a symbolic link\n",
            "\n"
          ]
        }
      ]
    },
    {
      "cell_type": "code",
      "metadata": {
        "colab": {
          "base_uri": "https://localhost:8080/",
          "height": 1000
        },
        "id": "RMNR9MAFyjsm",
        "outputId": "5e392685-e2ef-410a-a00b-f8fe1bf334eb"
      },
      "source": [
        "!pip install ocrmypdf"
      ],
      "execution_count": null,
      "outputs": [
        {
          "output_type": "stream",
          "name": "stdout",
          "text": [
            "Collecting ocrmypdf\n",
            "  Downloading ocrmypdf-12.4.0-py36-none-any.whl (140 kB)\n",
            "\u001b[K     |████████████████████████████████| 140 kB 3.1 MB/s \n",
            "\u001b[?25hRequirement already satisfied: setuptools in /usr/local/lib/python3.7/dist-packages (from ocrmypdf) (57.4.0)\n",
            "Requirement already satisfied: cffi>=1.9.1 in /usr/local/lib/python3.7/dist-packages (from ocrmypdf) (1.14.6)\n",
            "Collecting img2pdf<0.5,>=0.3.0\n",
            "  Downloading img2pdf-0.4.1-py3-none-any.whl (41 kB)\n",
            "\u001b[K     |████████████████████████████████| 41 kB 644 kB/s \n",
            "\u001b[?25hCollecting pikepdf>=2.10.0\n",
            "  Downloading pikepdf-3.0.0-cp37-cp37m-manylinux_2_12_x86_64.manylinux2010_x86_64.whl (2.0 MB)\n",
            "\u001b[K     |████████████████████████████████| 2.0 MB 29.8 MB/s \n",
            "\u001b[?25hCollecting reportlab>=3.5.66\n",
            "  Downloading reportlab-3.6.1-cp37-cp37m-manylinux_2_12_x86_64.manylinux2010_x86_64.whl (2.6 MB)\n",
            "\u001b[K     |████████████████████████████████| 2.6 MB 44.8 MB/s \n",
            "\u001b[?25hCollecting pdfminer.six!=20200720,<=20201018,>=20191110\n",
            "  Downloading pdfminer.six-20201018-py3-none-any.whl (5.6 MB)\n",
            "\u001b[K     |████████████████████████████████| 5.6 MB 68.3 MB/s \n",
            "\u001b[?25hRequirement already satisfied: tqdm>=4 in /usr/local/lib/python3.7/dist-packages (from ocrmypdf) (4.62.0)\n",
            "Collecting coloredlogs>=14.0\n",
            "  Downloading coloredlogs-15.0.1-py2.py3-none-any.whl (46 kB)\n",
            "\u001b[K     |████████████████████████████████| 46 kB 3.6 MB/s \n",
            "\u001b[?25hCollecting Pillow>=8.2.0\n",
            "  Downloading Pillow-8.3.2-cp37-cp37m-manylinux_2_17_x86_64.manylinux2014_x86_64.whl (3.0 MB)\n",
            "\u001b[K     |████████████████████████████████| 3.0 MB 46.0 MB/s \n",
            "\u001b[?25hCollecting pluggy<2,>=0.13.0\n",
            "  Downloading pluggy-1.0.0-py2.py3-none-any.whl (13 kB)\n",
            "Requirement already satisfied: pycparser in /usr/local/lib/python3.7/dist-packages (from cffi>=1.9.1->ocrmypdf) (2.20)\n",
            "Collecting humanfriendly>=9.1\n",
            "  Downloading humanfriendly-9.2-py2.py3-none-any.whl (86 kB)\n",
            "\u001b[K     |████████████████████████████████| 86 kB 5.7 MB/s \n",
            "\u001b[?25hCollecting cryptography\n",
            "  Downloading cryptography-3.4.8-cp36-abi3-manylinux_2_24_x86_64.whl (3.0 MB)\n",
            "\u001b[K     |████████████████████████████████| 3.0 MB 44.3 MB/s \n",
            "\u001b[?25hRequirement already satisfied: chardet in /usr/local/lib/python3.7/dist-packages (from pdfminer.six!=20200720,<=20201018,>=20191110->ocrmypdf) (3.0.4)\n",
            "Requirement already satisfied: sortedcontainers in /usr/local/lib/python3.7/dist-packages (from pdfminer.six!=20200720,<=20201018,>=20191110->ocrmypdf) (2.4.0)\n",
            "Requirement already satisfied: lxml>=4.0 in /usr/local/lib/python3.7/dist-packages (from pikepdf>=2.10.0->ocrmypdf) (4.2.6)\n",
            "Requirement already satisfied: importlib-metadata>=0.12 in /usr/local/lib/python3.7/dist-packages (from pluggy<2,>=0.13.0->ocrmypdf) (4.6.4)\n",
            "Requirement already satisfied: zipp>=0.5 in /usr/local/lib/python3.7/dist-packages (from importlib-metadata>=0.12->pluggy<2,>=0.13.0->ocrmypdf) (3.5.0)\n",
            "Requirement already satisfied: typing-extensions>=3.6.4 in /usr/local/lib/python3.7/dist-packages (from importlib-metadata>=0.12->pluggy<2,>=0.13.0->ocrmypdf) (3.7.4.3)\n",
            "Installing collected packages: Pillow, pikepdf, humanfriendly, cryptography, reportlab, pluggy, pdfminer.six, img2pdf, coloredlogs, ocrmypdf\n",
            "  Attempting uninstall: Pillow\n",
            "    Found existing installation: Pillow 7.1.2\n",
            "    Uninstalling Pillow-7.1.2:\n",
            "      Successfully uninstalled Pillow-7.1.2\n",
            "  Attempting uninstall: pluggy\n",
            "    Found existing installation: pluggy 0.7.1\n",
            "    Uninstalling pluggy-0.7.1:\n",
            "      Successfully uninstalled pluggy-0.7.1\n",
            "\u001b[31mERROR: pip's dependency resolver does not currently take into account all the packages that are installed. This behaviour is the source of the following dependency conflicts.\n",
            "pytest 3.6.4 requires pluggy<0.8,>=0.5, but you have pluggy 1.0.0 which is incompatible.\n",
            "datascience 0.10.6 requires folium==0.2.1, but you have folium 0.8.3 which is incompatible.\n",
            "albumentations 0.1.12 requires imgaug<0.2.7,>=0.2.5, but you have imgaug 0.2.9 which is incompatible.\u001b[0m\n",
            "Successfully installed Pillow-8.3.2 coloredlogs-15.0.1 cryptography-3.4.8 humanfriendly-9.2 img2pdf-0.4.1 ocrmypdf-12.4.0 pdfminer.six-20201018 pikepdf-3.0.0 pluggy-1.0.0 reportlab-3.6.1\n"
          ]
        },
        {
          "output_type": "display_data",
          "data": {
            "application/vnd.colab-display-data+json": {
              "pip_warning": {
                "packages": [
                  "PIL"
                ]
              }
            }
          },
          "metadata": {}
        }
      ]
    },
    {
      "cell_type": "markdown",
      "metadata": {
        "id": "VwDo4HsMz1SX"
      },
      "source": [
        "# Restart the cell. Inorder for the other dependecy to work"
      ]
    },
    {
      "cell_type": "code",
      "metadata": {
        "colab": {
          "base_uri": "https://localhost:8080/"
        },
        "id": "sIN-uv44ymae",
        "outputId": "488e0cba-6b44-44e3-ce50-273a38ee2264"
      },
      "source": [
        "!ocrmypdf --help"
      ],
      "execution_count": null,
      "outputs": [
        {
          "output_type": "stream",
          "name": "stdout",
          "text": [
            "usage: ocrmypdf [-h] [-l LANGUAGES] [--image-dpi DPI]\n",
            "                [--output-type {pdfa,pdf,pdfa-1,pdfa-2,pdfa-3}]\n",
            "                [--sidecar [FILE]] [--version] [-j N] [-q] [-v [VERBOSE]]\n",
            "                [--title TITLE] [--author AUTHOR] [--subject SUBJECT]\n",
            "                [--keywords KEYWORDS] [-r] [--remove-background] [-d] [-c]\n",
            "                [-i] [--unpaper-args UNPAPER_ARGS] [--oversample DPI]\n",
            "                [--remove-vectors] [--threshold] [-f] [-s] [--redo-ocr]\n",
            "                [--skip-big MPixels] [-O {0,1,2,3}] [--jpeg-quality Q]\n",
            "                [--png-quality Q] [--jbig2-lossy] [--pages PAGES]\n",
            "                [--max-image-mpixels MPixels]\n",
            "                [--pdf-renderer {auto,hocr,sandwich,hocrdebug}]\n",
            "                [--rotate-pages-threshold CONFIDENCE]\n",
            "                [--pdfa-image-compression {auto,jpeg,lossless}]\n",
            "                [--fast-web-view MEGABYTES] [--plugin PLUGINS] [-k]\n",
            "                [--tesseract-config CFG] [--tesseract-pagesegmode PSM]\n",
            "                [--tesseract-oem MODE] [--tesseract-timeout SECONDS]\n",
            "                [--user-words FILE] [--user-patterns FILE]\n",
            "                input_pdf_or_image output_pdf\n",
            "\n",
            "Generates a searchable PDF or PDF/A from a regular PDF.\n",
            "\n",
            "OCRmyPDF rasterizes each page of the input PDF, optionally corrects page\n",
            "rotation and performs image processing, runs the Tesseract OCR engine on the\n",
            "image, and then creates a PDF from the OCR information.\n",
            "\n",
            "positional arguments:\n",
            "  input_pdf_or_image    PDF file containing the images to be OCRed (or '-' to\n",
            "                        read from standard input)\n",
            "  output_pdf            Output searchable PDF file (or '-' to write to\n",
            "                        standard output). Existing files will be ovewritten.\n",
            "                        If same as input file, the input file will be updated\n",
            "                        only if processing is successful.\n",
            "\n",
            "optional arguments:\n",
            "  -h, --help            show this help message and exit\n",
            "  -l LANGUAGES, --language LANGUAGES\n",
            "                        Language(s) of the file to be OCRed (see tesseract\n",
            "                        --list-langs for all language packs installed in your\n",
            "                        system). Use -l eng+deu for multiple languages.\n",
            "  --image-dpi DPI       For input image instead of PDF, use this DPI instead\n",
            "                        of file's.\n",
            "  --output-type {pdfa,pdf,pdfa-1,pdfa-2,pdfa-3}\n",
            "                        Choose output type. 'pdfa' creates a PDF/A-2b\n",
            "                        compliant file for long term archiving (default,\n",
            "                        recommended) but may not suitable for users who want\n",
            "                        their file altered as little as possible. 'pdfa' also\n",
            "                        has problems with full Unicode text. 'pdf' attempts to\n",
            "                        preserve file contents as much as possible. 'pdf-a1'\n",
            "                        creates a PDF/A1-b file. 'pdf-a2' is equivalent to\n",
            "                        'pdfa'. 'pdf-a3' creates a PDF/A3-b file.\n",
            "  --sidecar [FILE]      Generate sidecar text files that contain the same text\n",
            "                        recognized by Tesseract. This may be useful for\n",
            "                        building a OCR text database. If FILE is omitted, the\n",
            "                        sidecar file be named {output_file}.txt; the next\n",
            "                        argument must NOT be the name of the input PDF. If\n",
            "                        FILE is set to '-', the sidecar is written to stdout\n",
            "                        (a convenient way to preview OCR quality). The output\n",
            "                        file and sidecar may not both use stdout at the same\n",
            "                        time.\n",
            "  --version             Print program version and exit\n",
            "\n",
            "Job control options:\n",
            "  -j N, --jobs N        Use up to N CPU cores simultaneously (default: use\n",
            "                        all).\n",
            "  -q, --quiet           Suppress INFO messages\n",
            "  -v [VERBOSE], --verbose [VERBOSE]\n",
            "                        Print more verbose messages for each additional\n",
            "                        verbose level. Use `-v 1` typically for much more\n",
            "                        detailed logging. Higher numbers are probably only\n",
            "                        useful in debugging.\n",
            "\n",
            "Metadata options:\n",
            "  Set output PDF/A metadata (default: copy input document's metadata)\n",
            "\n",
            "  --title TITLE         Set document title (place multiple words in quotes)\n",
            "  --author AUTHOR       Set document author\n",
            "  --subject SUBJECT     Set document subject description\n",
            "  --keywords KEYWORDS   Set document keywords\n",
            "\n",
            "Image preprocessing options:\n",
            "  Options to improve the quality of the final PDF and OCR\n",
            "\n",
            "  -r, --rotate-pages    Automatically rotate pages based on detected text\n",
            "                        orientation\n",
            "  --remove-background   Attempt to remove background from gray or color pages,\n",
            "                        setting it to white\n",
            "  -d, --deskew          Deskew each page before performing OCR\n",
            "  -c, --clean           Clean pages from scanning artifacts before performing\n",
            "                        OCR, and send the cleaned page to OCR, but do not\n",
            "                        include the cleaned page in the output\n",
            "  -i, --clean-final     Clean page as above, and incorporate the cleaned image\n",
            "                        in the final PDF. Might remove desired content.\n",
            "  --unpaper-args UNPAPER_ARGS\n",
            "                        A quoted string of arguments to pass to unpaper.\n",
            "                        Requires --clean. Example: --unpaper-args '--layout\n",
            "                        double'.\n",
            "  --oversample DPI      Oversample images to at least the specified DPI, to\n",
            "                        improve OCR results slightly\n",
            "  --remove-vectors      EXPERIMENTAL. Mask out any vector objects in the PDF\n",
            "                        so that they will not be included in OCR. This can\n",
            "                        eliminate false characters.\n",
            "  --threshold           EXPERIMENTAL. Threshold image to 1bpp before sending\n",
            "                        it to Tesseract for OCR. Can improve OCR quality\n",
            "                        compared to Tesseract's thresholder.\n",
            "\n",
            "OCR options:\n",
            "  Control how OCR is applied\n",
            "\n",
            "  -f, --force-ocr       Rasterize any text or vector objects on each page,\n",
            "                        apply OCR, and save the rastered output (this rewrites\n",
            "                        the PDF)\n",
            "  -s, --skip-text       Skip OCR on any pages that already contain text, but\n",
            "                        include the page in final output; useful for PDFs that\n",
            "                        contain a mix of images, text pages, and/or previously\n",
            "                        OCRed pages\n",
            "  --redo-ocr            Attempt to detect and remove the hidden OCR layer from\n",
            "                        files that were previously OCRed with OCRmyPDF or\n",
            "                        another program. Apply OCR to text found in raster\n",
            "                        images. Existing visible text objects will not be\n",
            "                        changed. If there is no existing OCR, OCR will be\n",
            "                        added.\n",
            "  --skip-big MPixels    Skip OCR on pages larger than the specified amount of\n",
            "                        megapixels, but include skipped pages in final output\n",
            "\n",
            "Optimization options:\n",
            "  Control how the PDF is optimized after OCR\n",
            "\n",
            "  -O {0,1,2,3}, --optimize {0,1,2,3}\n",
            "                        Control how PDF is optimized after processing:0 - do\n",
            "                        not optimize; 1 - do safe, lossless optimizations\n",
            "                        (default); 2 - do some lossy optimizations; 3 - do\n",
            "                        aggressive lossy optimizations (including lossy JBIG2)\n",
            "  --jpeg-quality Q      Adjust JPEG quality level for JPEG optimization. 100\n",
            "                        is best quality and largest output size; 1 is lowest\n",
            "                        quality and smallest output; 0 uses the default.\n",
            "  --png-quality Q       Adjust PNG quality level to use when quantizing PNGs.\n",
            "                        Values have same meaning as with --jpeg-quality\n",
            "  --jbig2-lossy         Enable JBIG2 lossy mode (better compression, not\n",
            "                        suitable for some use cases - see documentation).\n",
            "\n",
            "Advanced:\n",
            "  Advanced options to control OCRmyPDF\n",
            "\n",
            "  --pages PAGES         Limit OCR to the specified pages (ranges or comma\n",
            "                        separated), skipping others\n",
            "  --max-image-mpixels MPixels\n",
            "                        Set maximum number of pixels to unpack before treating\n",
            "                        an image as a decompression bomb\n",
            "  --pdf-renderer {auto,hocr,sandwich,hocrdebug}\n",
            "                        Choose OCR PDF renderer - the default option is to let\n",
            "                        OCRmyPDF choose. See documentation for discussion.\n",
            "  --rotate-pages-threshold CONFIDENCE\n",
            "                        Only rotate pages when confidence is above this value\n",
            "                        (arbitrary units reported by tesseract)\n",
            "  --pdfa-image-compression {auto,jpeg,lossless}\n",
            "                        Specify how to compress images in the output PDF/A.\n",
            "                        'auto' lets OCRmyPDF decide. 'jpeg' changes all\n",
            "                        grayscale and color images to JPEG compression.\n",
            "                        'lossless' uses PNG-style lossless compression for all\n",
            "                        images. Monochrome images are always compressed using\n",
            "                        a lossless codec. Compression settings are applied to\n",
            "                        all pages, including those for which OCR was skipped.\n",
            "                        Not supported for --output-type=pdf ; that setting\n",
            "                        preserves the original compression of all images.\n",
            "  --fast-web-view MEGABYTES\n",
            "                        If the size of file is more than this threshold (in\n",
            "                        MB), then linearize the PDF for fast web viewing. This\n",
            "                        allows the PDF to be displayed before it is fully\n",
            "                        downloaded in web browsers, but increases the space\n",
            "                        required slightly. By default we skip this for small\n",
            "                        files which do not benefit. If the threshold is 0 it\n",
            "                        will be apply to all files. Set the threshold very\n",
            "                        high to disable.\n",
            "  --plugin PLUGINS      Name of plugin to import. Argument may be issued\n",
            "                        multiple times to import multiple plugins. Plugins may\n",
            "                        be specified as module names in Python syntax,\n",
            "                        provided they are installed in the same Python\n",
            "                        (virtual) environment as ocrmypdf; or you may give the\n",
            "                        path to the Python file that contains the plugin.\n",
            "                        Plugins must conform to the specification in the\n",
            "                        OCRmyPDF documentation.\n",
            "\n",
            "Debugging:\n",
            "  Arguments to help with troubleshooting and debugging\n",
            "\n",
            "  -k, --keep-temporary-files\n",
            "                        Keep temporary files (helpful for debugging)\n",
            "\n",
            "Tesseract:\n",
            "  Advanced control of Tesseract OCR\n",
            "\n",
            "  --tesseract-config CFG\n",
            "                        Additional Tesseract configuration files -- see\n",
            "                        documentation\n",
            "  --tesseract-pagesegmode PSM\n",
            "                        Set Tesseract page segmentation mode (see tesseract\n",
            "                        --help)\n",
            "  --tesseract-oem MODE  Set Tesseract 4.0 OCR engine mode: 0 - original\n",
            "                        Tesseract only; 1 - neural nets LSTM only; 2 -\n",
            "                        Tesseract + LSTM; 3 - default.\n",
            "  --tesseract-timeout SECONDS\n",
            "                        Give up on OCR after the timeout, but copy the\n",
            "                        preprocessed page into the final output\n",
            "  --user-words FILE     Specify the location of the Tesseract user words file.\n",
            "                        This is a list of words Tesseract should consider\n",
            "                        while performing OCR in addition to its standard\n",
            "                        language dictionaries. This can improve OCR quality\n",
            "                        especially for specialized and technical documents.\n",
            "  --user-patterns FILE  Specify the location of the Tesseract user patterns\n",
            "                        file.\n",
            "\n",
            "OCRmyPDF attempts to keep the output file at about the same size.  If a file\n",
            "contains losslessly compressed images, and images in the output file will be\n",
            "losslessly compressed as well.\n",
            "\n",
            "PDF is a page description file that attempts to preserve a layout exactly.\n",
            "A PDF can contain vector objects (such as text or lines) and raster objects\n",
            "(images).  A page might have multiple images.  OCRmyPDF is prepared to deal\n",
            "with the wide variety of PDFs that exist in the wild.\n",
            "\n",
            "When a PDF page contains text, OCRmyPDF assumes that the page has already\n",
            "been OCRed or is a \"born digital\" page that should not be OCRed.  The default\n",
            "behavior is to exit in this case without producing a file.  You can use the\n",
            "option --skip-text to ignore pages with text, or --force-ocr to rasterize\n",
            "all objects on the page and produce an image-only PDF as output.\n",
            "\n",
            "    ocrmypdf --skip-text file_with_some_text_pages.pdf output.pdf\n",
            "\n",
            "    ocrmypdf --force-ocr word_document.pdf output.pdf\n",
            "\n",
            "If you are concerned about long-term archiving of PDFs, use the default option\n",
            "--output-type pdfa which converts the PDF to a standardized PDF/A-2b.  This\n",
            "removes some features from the PDF such as Javascript or forms. If you want to\n",
            "minimize the number of changes made to your PDF, use --output-type pdf.\n",
            "\n",
            "If OCRmyPDF is given an image file as input, it will attempt to convert the\n",
            "image to a PDF before processing.  For more control over the conversion of\n",
            "images to PDF, use the Python package img2pdf or other image to PDF software.\n",
            "\n",
            "For example, this command uses img2pdf to convert all .png files beginning\n",
            "with the 'page' prefix to a PDF, fitting each image on A4-sized paper, and\n",
            "sending the result to OCRmyPDF through a pipe.\n",
            "\n",
            "    img2pdf --pagesize A4 page*.png | ocrmypdf - myfile.pdf\n",
            "\n",
            "Online documentation is located at:\n",
            "    https://ocrmypdf.readthedocs.io/en/latest/introduction.html\n"
          ]
        }
      ]
    },
    {
      "cell_type": "code",
      "metadata": {
        "colab": {
          "base_uri": "https://localhost:8080/",
          "height": 35
        },
        "id": "HRYkVIYhyp2M",
        "outputId": "e4701b9d-8983-44d8-b0e5-d7784488094f"
      },
      "source": [
        "from ctypes.util import find_library\n",
        "find_library(\"gs\")"
      ],
      "execution_count": null,
      "outputs": [
        {
          "output_type": "execute_result",
          "data": {
            "application/vnd.google.colaboratory.intrinsic+json": {
              "type": "string"
            },
            "text/plain": [
              "'libgs.so.9'"
            ]
          },
          "metadata": {},
          "execution_count": 6
        }
      ]
    },
    {
      "cell_type": "code",
      "metadata": {
        "colab": {
          "base_uri": "https://localhost:8080/"
        },
        "id": "aK3c0wQGytPa",
        "outputId": "19239437-0e85-4942-8767-dc036a74b18b"
      },
      "source": [
        "!pip install fitz "
      ],
      "execution_count": null,
      "outputs": [
        {
          "output_type": "stream",
          "name": "stdout",
          "text": [
            "Collecting fitz\n",
            "  Using cached fitz-0.0.1.dev2-py2.py3-none-any.whl (20 kB)\n",
            "Requirement already satisfied: scipy in /usr/local/lib/python3.7/dist-packages (from fitz) (1.4.1)\n",
            "Collecting nipype\n",
            "  Using cached nipype-1.6.1-py3-none-any.whl (3.2 MB)\n",
            "Requirement already satisfied: numpy in /usr/local/lib/python3.7/dist-packages (from fitz) (1.19.5)\n",
            "Collecting pyxnat\n",
            "  Using cached pyxnat-1.4-py3-none-any.whl\n",
            "Requirement already satisfied: httplib2 in /usr/local/lib/python3.7/dist-packages (from fitz) (0.17.4)\n",
            "Collecting configparser\n",
            "  Using cached configparser-5.0.2-py3-none-any.whl (19 kB)\n",
            "Requirement already satisfied: nibabel in /usr/local/lib/python3.7/dist-packages (from fitz) (3.0.2)\n",
            "Requirement already satisfied: pandas in /usr/local/lib/python3.7/dist-packages (from fitz) (1.1.5)\n",
            "Collecting configobj\n",
            "  Using cached configobj-5.0.6-py3-none-any.whl\n",
            "Requirement already satisfied: six in /usr/local/lib/python3.7/dist-packages (from configobj->fitz) (1.15.0)\n",
            "Collecting prov>=1.5.2\n",
            "  Using cached prov-2.0.0-py3-none-any.whl (421 kB)\n",
            "Collecting rdflib>=5.0.0\n",
            "  Using cached rdflib-6.0.0-py3-none-any.whl (376 kB)\n",
            "Requirement already satisfied: networkx>=2.0 in /usr/local/lib/python3.7/dist-packages (from nipype->fitz) (2.6.2)\n",
            "Requirement already satisfied: packaging in /usr/local/lib/python3.7/dist-packages (from nipype->fitz) (21.0)\n",
            "Collecting etelemetry>=0.2.0\n",
            "  Using cached etelemetry-0.2.2-py3-none-any.whl (6.2 kB)\n",
            "Requirement already satisfied: filelock>=3.0.0 in /usr/local/lib/python3.7/dist-packages (from nipype->fitz) (3.0.12)\n",
            "Requirement already satisfied: python-dateutil>=2.2 in /usr/local/lib/python3.7/dist-packages (from nipype->fitz) (2.8.2)\n",
            "Collecting simplejson>=3.8.0\n",
            "  Using cached simplejson-3.17.5-cp37-cp37m-manylinux_2_5_x86_64.manylinux1_x86_64.manylinux_2_12_x86_64.manylinux2010_x86_64.whl (129 kB)\n",
            "Collecting traits!=5.0,>=4.6\n",
            "  Using cached traits-6.2.0-cp37-cp37m-manylinux2010_x86_64.whl (5.1 MB)\n",
            "Requirement already satisfied: pydot>=1.2.3 in /usr/local/lib/python3.7/dist-packages (from nipype->fitz) (1.3.0)\n",
            "Requirement already satisfied: click>=6.6.0 in /usr/local/lib/python3.7/dist-packages (from nipype->fitz) (7.1.2)\n",
            "Collecting ci-info>=0.2\n",
            "  Using cached ci_info-0.2.0-py3-none-any.whl (6.9 kB)\n",
            "Requirement already satisfied: requests in /usr/local/lib/python3.7/dist-packages (from etelemetry>=0.2.0->nipype->fitz) (2.23.0)\n",
            "Requirement already satisfied: lxml>=3.3.5 in /usr/local/lib/python3.7/dist-packages (from prov>=1.5.2->nipype->fitz) (4.2.6)\n",
            "Requirement already satisfied: pyparsing>=2.1.4 in /usr/local/lib/python3.7/dist-packages (from pydot>=1.2.3->nipype->fitz) (2.4.7)\n",
            "Requirement already satisfied: setuptools in /usr/local/lib/python3.7/dist-packages (from rdflib>=5.0.0->nipype->fitz) (57.4.0)\n",
            "Collecting isodate\n",
            "  Using cached isodate-0.6.0-py2.py3-none-any.whl (45 kB)\n",
            "Requirement already satisfied: pytz>=2017.2 in /usr/local/lib/python3.7/dist-packages (from pandas->fitz) (2018.9)\n",
            "Collecting lxml>=3.3.5\n",
            "  Using cached lxml-4.6.3-cp37-cp37m-manylinux2014_x86_64.whl (6.3 MB)\n",
            "Requirement already satisfied: pathlib>=1.0 in /usr/local/lib/python3.7/dist-packages (from pyxnat->fitz) (1.0.1)\n",
            "Requirement already satisfied: future>=0.16 in /usr/local/lib/python3.7/dist-packages (from pyxnat->fitz) (0.16.0)\n",
            "Requirement already satisfied: certifi>=2017.4.17 in /usr/local/lib/python3.7/dist-packages (from requests->etelemetry>=0.2.0->nipype->fitz) (2021.5.30)\n",
            "Requirement already satisfied: chardet<4,>=3.0.2 in /usr/local/lib/python3.7/dist-packages (from requests->etelemetry>=0.2.0->nipype->fitz) (3.0.4)\n",
            "Requirement already satisfied: idna<3,>=2.5 in /usr/local/lib/python3.7/dist-packages (from requests->etelemetry>=0.2.0->nipype->fitz) (2.10)\n",
            "Requirement already satisfied: urllib3!=1.25.0,!=1.25.1,<1.26,>=1.21.1 in /usr/local/lib/python3.7/dist-packages (from requests->etelemetry>=0.2.0->nipype->fitz) (1.24.3)\n",
            "Installing collected packages: isodate, rdflib, lxml, ci-info, traits, simplejson, prov, etelemetry, pyxnat, nipype, configparser, configobj, fitz\n",
            "  Attempting uninstall: lxml\n",
            "    Found existing installation: lxml 4.2.6\n",
            "    Uninstalling lxml-4.2.6:\n",
            "      Successfully uninstalled lxml-4.2.6\n",
            "Successfully installed ci-info-0.2.0 configobj-5.0.6 configparser-5.0.2 etelemetry-0.2.2 fitz-0.0.1.dev2 isodate-0.6.0 lxml-4.6.3 nipype-1.6.1 prov-2.0.0 pyxnat-1.4 rdflib-6.0.0 simplejson-3.17.5 traits-6.2.0\n"
          ]
        }
      ]
    },
    {
      "cell_type": "code",
      "metadata": {
        "colab": {
          "base_uri": "https://localhost:8080/"
        },
        "id": "cnqjUL53yyue",
        "outputId": "fc05a3cb-a427-4784-fa6c-e52dd40fc528"
      },
      "source": [
        "!pip install PyMuPDF==1.16.14"
      ],
      "execution_count": null,
      "outputs": [
        {
          "output_type": "stream",
          "name": "stdout",
          "text": [
            "Collecting PyMuPDF==1.16.14\n",
            "  Downloading PyMuPDF-1.16.14-cp37-cp37m-manylinux2010_x86_64.whl (5.7 MB)\n",
            "\u001b[K     |████████████████████████████████| 5.7 MB 2.9 MB/s \n",
            "\u001b[?25hInstalling collected packages: PyMuPDF\n",
            "Successfully installed PyMuPDF-1.16.14\n"
          ]
        }
      ]
    },
    {
      "cell_type": "code",
      "metadata": {
        "colab": {
          "base_uri": "https://localhost:8080/"
        },
        "id": "Ey-Y8Cbky1Dl",
        "outputId": "fe7a9dff-b68f-41d7-c6f4-8814db070355"
      },
      "source": [
        "!pip install pdfminer"
      ],
      "execution_count": null,
      "outputs": [
        {
          "output_type": "stream",
          "name": "stdout",
          "text": [
            "Collecting pdfminer\n",
            "  Downloading pdfminer-20191125.tar.gz (4.2 MB)\n",
            "\u001b[K     |████████████████████████████████| 4.2 MB 2.6 MB/s \n",
            "\u001b[?25hCollecting pycryptodome\n",
            "  Downloading pycryptodome-3.10.1-cp35-abi3-manylinux2010_x86_64.whl (1.9 MB)\n",
            "\u001b[K     |████████████████████████████████| 1.9 MB 34.7 MB/s \n",
            "\u001b[?25hBuilding wheels for collected packages: pdfminer\n",
            "  Building wheel for pdfminer (setup.py) ... \u001b[?25l\u001b[?25hdone\n",
            "  Created wheel for pdfminer: filename=pdfminer-20191125-py3-none-any.whl size=6140098 sha256=e043c59251c2234ddd5bda1a559cfd2c308416990f671078aed1c696e9a79e8a\n",
            "  Stored in directory: /root/.cache/pip/wheels/e3/5e/f4/d210b46e9e4a28229ea070ed5b3efa92c3c29d1a7918dd4b97\n",
            "Successfully built pdfminer\n",
            "Installing collected packages: pycryptodome, pdfminer\n",
            "Successfully installed pdfminer-20191125 pycryptodome-3.10.1\n"
          ]
        }
      ]
    },
    {
      "cell_type": "markdown",
      "metadata": {
        "id": "YJdm7yim0FxC"
      },
      "source": [
        "## OcrMyPDF lib will perform the convertion"
      ]
    },
    {
      "cell_type": "code",
      "metadata": {
        "id": "9r8hz9i2zHlI"
      },
      "source": [
        "import ocrmypdf\n",
        "def ocr(file_path,save_path):\n",
        "  ocrmypdf.ocr(file_path, save_path, rotate_pages=True,\n",
        "    remove_background=True, deskew=True, force_ocr=True)"
      ],
      "execution_count": null,
      "outputs": []
    },
    {
      "cell_type": "code",
      "metadata": {
        "id": "gD47kyRdy4tg"
      },
      "source": [
        "from pdfminer.pdfpage import PDFPage\n",
        "def get_pdf_searchable_pages(fname):\n",
        "  \n",
        "  searchable_pages = []\n",
        "  non_searchable_pages = []\n",
        "  page_num = 0\n",
        "\n",
        "  with open(fname, 'rb') as infile:\n",
        "      for page in PDFPage.get_pages(infile):\n",
        "          page_num += 1\n",
        "          if 'Font' in page.resources.keys():\n",
        "              searchable_pages.append(page_num)\n",
        "          else:\n",
        "              non_searchable_pages.append(page_num)\n",
        "\n",
        "  print(\"The number of pages are: \",page_num)\n",
        "  print(\"The Searchable page are: \",searchable_pages)\n",
        "  print(\"The Non searchable page are: \",non_searchable_pages)\n",
        "\n",
        "  # Check if the pdf is not empty\n",
        "  if page_num > 0:\n",
        "\n",
        "    # check if the document is non searchable\n",
        "      if len(searchable_pages) == 0:\n",
        "          print(f\"Document '{fname}' has {page_num} page(s). \"\n",
        "                f\"Complete document is non-searchable\")\n",
        "          # convert it to searchable\n",
        "          ocr(fname,\"op.pdf\")\n",
        "\n",
        "      elif len(non_searchable_pages) > 0:\n",
        "          print(f\"Document '{fname}' has {page_num} page(s). \"\n",
        "                f\"Document's page number '{non_searchable_pages}' is non-searchable\")\n",
        "          # convert it to searchable\n",
        "          ocr(fname,\"op.pdf\")\n",
        "\n",
        "      # check if the document is searchable\n",
        "      elif len(non_searchable_pages) == 0:\n",
        "          print(f\"Document '{fname}' has {page_num} page(s). \"\n",
        "                f\"Complete document is searchable\")\n",
        "      else:\n",
        "          print(f\"searchable_pages : {searchable_pages}\")\n",
        "          print(f\"non_searchable_pages : {non_searchable_pages}\")\n",
        "  else:\n",
        "      print(f\"Not a valid document\")\n"
      ],
      "execution_count": null,
      "outputs": []
    },
    {
      "cell_type": "code",
      "metadata": {
        "colab": {
          "base_uri": "https://localhost:8080/"
        },
        "id": "1HtQHn2-rumq",
        "outputId": "c4dfff3d-ee5c-46b8-cb90-7580bfb92e61"
      },
      "source": [
        "if __name__ == '__main__':\n",
        "    get_pdf_searchable_pages(\"demo.pdf\")"
      ],
      "execution_count": null,
      "outputs": [
        {
          "output_type": "stream",
          "name": "stdout",
          "text": [
            "The number of pages are:  3\n",
            "The Searchable page are:  [1, 2]\n",
            "The Non searchable page are:  [3]\n",
            "Document 'demo.pdf' has 3 page(s). Document's page number '[3]' is non-searchable\n"
          ]
        },
        {
          "output_type": "stream",
          "name": "stderr",
          "text": [
            "Scanning contents: 100%|██████████| 3/3 [00:00<00:00, 14.71page/s]\n",
            "OCR: 100%|██████████| 3.0/3.0 [00:26<00:00,  8.98s/page]\n",
            "PDF/A conversion: 100%|██████████| 3/3 [00:02<00:00,  1.42page/s]\n",
            "JPEGs: 0image [00:00, ?image/s]\n",
            "JBIG2: 0item [00:00, ?item/s]\n",
            "The output file size is 1.59× larger than the input file.\n",
            "Possible reasons for this include:\n",
            "The argument --deskew was issued, causing transcoding.\n",
            "The argument --force-ocr was issued, causing transcoding.\n",
            "The argument --remove-background was issued, causing transcoding.\n",
            "The optional dependency 'jbig2' was not found, so some image optimizations could not be attempted.\n",
            "The optional dependency 'pngquant' was not found, so some image optimizations could not be attempted.\n",
            "PDF/A conversion was enabled. (Try `--output-type pdf`.)\n",
            "\n"
          ]
        }
      ]
    }
  ]
}